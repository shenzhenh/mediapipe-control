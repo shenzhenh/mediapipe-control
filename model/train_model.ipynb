{
 "cells": [
  {
   "cell_type": "code",
   "execution_count": 45,
   "metadata": {
    "id": "igMyGnjE9hEp",
    "pycharm": {
     "name": "#%%\n"
    }
   },
   "outputs": [],
   "source": [
    "import numpy as np\n",
    "import tensorflow as tf\n",
    "from sklearn.model_selection import train_test_split\n",
    "\n",
    "RANDOM_SEED = 42"
   ]
  },
  {
   "cell_type": "markdown",
   "metadata": {
    "id": "t2HDvhIu9hEr",
    "pycharm": {
     "name": "#%% md\n"
    }
   },
   "source": [
    "# Specify each path"
   ]
  },
  {
   "cell_type": "code",
   "execution_count": 46,
   "metadata": {
    "id": "9NvZP2Zn9hEy",
    "pycharm": {
     "name": "#%%\n"
    }
   },
   "outputs": [],
   "source": [
    "dataset = 'model/gesture_classifier/keypoint.csv'\n",
    "model_save_path = 'model/gesture_classifier/gesture_classifier.hdf5'\n",
    "tflite_save_path = 'model/gesture_classifier/gesture_classifier.tflite'"
   ]
  },
  {
   "cell_type": "markdown",
   "metadata": {
    "id": "s5oMH7x19hEz",
    "pycharm": {
     "name": "#%% md\n"
    }
   },
   "source": [
    "# Set number of classes"
   ]
  },
  {
   "cell_type": "code",
   "execution_count": 47,
   "metadata": {
    "id": "du4kodXL9hEz",
    "pycharm": {
     "name": "#%%\n"
    }
   },
   "outputs": [],
   "source": [
    "NUM_CLASSES = 9"
   ]
  },
  {
   "cell_type": "markdown",
   "metadata": {
    "id": "XjnL0uso9hEz",
    "pycharm": {
     "name": "#%% md\n"
    }
   },
   "source": [
    "# Dataset reading"
   ]
  },
  {
   "cell_type": "code",
   "execution_count": 48,
   "metadata": {
    "id": "QT5ZqtEz9hE0",
    "pycharm": {
     "name": "#%%\n"
    }
   },
   "outputs": [],
   "source": [
    "X_dataset = np.loadtxt(dataset, delimiter=',', dtype='float32', usecols=list(range(1, (21 * 2) + 1)))"
   ]
  },
  {
   "cell_type": "code",
   "execution_count": 49,
   "metadata": {
    "id": "QmoKFsp49hE0",
    "pycharm": {
     "name": "#%%\n"
    }
   },
   "outputs": [],
   "source": [
    "y_dataset = np.loadtxt(dataset, delimiter=',', dtype='int32', usecols=0)"
   ]
  },
  {
   "cell_type": "code",
   "execution_count": 50,
   "metadata": {
    "id": "xQU7JTZ_9hE0",
    "pycharm": {
     "name": "#%%\n"
    }
   },
   "outputs": [],
   "source": [
    "X_train, X_test, y_train, y_test = train_test_split(X_dataset, y_dataset, train_size=0.75, random_state=RANDOM_SEED)"
   ]
  },
  {
   "cell_type": "markdown",
   "metadata": {
    "id": "mxK_lETT9hE0",
    "pycharm": {
     "name": "#%% md\n"
    }
   },
   "source": [
    "# Model building"
   ]
  },
  {
   "cell_type": "code",
   "execution_count": 51,
   "metadata": {
    "id": "vHBmUf1t9hE1",
    "pycharm": {
     "name": "#%%\n"
    }
   },
   "outputs": [],
   "source": [
    "model = tf.keras.models.Sequential([\n",
    "    tf.keras.layers.Input((21 * 2, )),\n",
    "    tf.keras.layers.Dropout(0.2),\n",
    "    tf.keras.layers.Dense(20, activation='relu'),\n",
    "    tf.keras.layers.Dropout(0.4),\n",
    "    tf.keras.layers.Dense(10, activation='relu'),\n",
    "    tf.keras.layers.Dense(NUM_CLASSES, activation='softmax')\n",
    "])"
   ]
  },
  {
   "cell_type": "code",
   "execution_count": 52,
   "metadata": {
    "colab": {
     "base_uri": "https://localhost:8080/"
    },
    "id": "ypqky9tc9hE1",
    "outputId": "5db082bb-30e3-4110-bf63-a1ee777ecd46",
    "pycharm": {
     "name": "#%%\n"
    }
   },
   "outputs": [
    {
     "name": "stdout",
     "output_type": "stream",
     "text": [
      "Model: \"sequential_2\"\n",
      "_________________________________________________________________\n",
      " Layer (type)                Output Shape              Param #   \n",
      "=================================================================\n",
      " dropout_4 (Dropout)         (None, 42)                0         \n",
      "                                                                 \n",
      " dense_6 (Dense)             (None, 20)                860       \n",
      "                                                                 \n",
      " dropout_5 (Dropout)         (None, 20)                0         \n",
      "                                                                 \n",
      " dense_7 (Dense)             (None, 10)                210       \n",
      "                                                                 \n",
      " dense_8 (Dense)             (None, 9)                 99        \n",
      "                                                                 \n",
      "=================================================================\n",
      "Total params: 1,169\n",
      "Trainable params: 1,169\n",
      "Non-trainable params: 0\n",
      "_________________________________________________________________\n"
     ]
    }
   ],
   "source": [
    "model.summary()"
   ]
  },
  {
   "cell_type": "code",
   "execution_count": 53,
   "metadata": {
    "id": "MbMjOflQ9hE1",
    "pycharm": {
     "name": "#%%\n"
    }
   },
   "outputs": [],
   "source": [
    "# Model checkpoint callback\n",
    "cp_callback = tf.keras.callbacks.ModelCheckpoint(\n",
    "    model_save_path, verbose=1, save_weights_only=False)\n",
    "# Callback for early stopping\n",
    "es_callback = tf.keras.callbacks.EarlyStopping(patience=20, verbose=1)"
   ]
  },
  {
   "cell_type": "code",
   "execution_count": 54,
   "metadata": {
    "id": "c3Dac0M_9hE2",
    "pycharm": {
     "name": "#%%\n"
    }
   },
   "outputs": [],
   "source": [
    "# Model compilation\n",
    "model.compile(\n",
    "    optimizer='adam',\n",
    "    loss='sparse_categorical_crossentropy',\n",
    "    metrics=['accuracy']\n",
    ")"
   ]
  },
  {
   "cell_type": "markdown",
   "metadata": {
    "id": "7XI0j1Iu9hE2",
    "pycharm": {
     "name": "#%% md\n"
    }
   },
   "source": [
    "# Model training"
   ]
  },
  {
   "cell_type": "code",
   "execution_count": 55,
   "metadata": {
    "colab": {
     "base_uri": "https://localhost:8080/"
    },
    "id": "WirBl-JE9hE3",
    "outputId": "71b30ca2-8294-4d9d-8aa2-800d90d399de",
    "scrolled": true,
    "pycharm": {
     "name": "#%%\n"
    }
   },
   "outputs": [
    {
     "name": "stdout",
     "output_type": "stream",
     "text": [
      "Epoch 1/1000\n",
      " 1/36 [..............................] - ETA: 12s - loss: 2.6298 - accuracy: 0.0391\n",
      "Epoch 1: saving model to model/keypoint_classifier\\keypoint_classifier.hdf5\n",
      "36/36 [==============================] - 1s 5ms/step - loss: 2.3344 - accuracy: 0.0673 - val_loss: 2.1357 - val_accuracy: 0.1725\n",
      "Epoch 2/1000\n",
      " 1/36 [..............................] - ETA: 0s - loss: 2.1889 - accuracy: 0.1094\n",
      "Epoch 2: saving model to model/keypoint_classifier\\keypoint_classifier.hdf5\n",
      "36/36 [==============================] - 0s 2ms/step - loss: 2.1075 - accuracy: 0.1952 - val_loss: 2.0119 - val_accuracy: 0.2681\n",
      "Epoch 3/1000\n",
      " 1/36 [..............................] - ETA: 0s - loss: 2.0396 - accuracy: 0.2734\n",
      "Epoch 3: saving model to model/keypoint_classifier\\keypoint_classifier.hdf5\n",
      "36/36 [==============================] - 0s 2ms/step - loss: 1.9676 - accuracy: 0.2795 - val_loss: 1.8468 - val_accuracy: 0.3179\n",
      "Epoch 4/1000\n",
      " 1/36 [..............................] - ETA: 0s - loss: 1.9110 - accuracy: 0.2969\n",
      "Epoch 4: saving model to model/keypoint_classifier\\keypoint_classifier.hdf5\n",
      "36/36 [==============================] - 0s 2ms/step - loss: 1.8261 - accuracy: 0.3088 - val_loss: 1.7074 - val_accuracy: 0.3696\n",
      "Epoch 5/1000\n",
      " 1/36 [..............................] - ETA: 0s - loss: 1.7476 - accuracy: 0.3359\n",
      "Epoch 5: saving model to model/keypoint_classifier\\keypoint_classifier.hdf5\n",
      "36/36 [==============================] - 0s 2ms/step - loss: 1.7298 - accuracy: 0.3541 - val_loss: 1.6110 - val_accuracy: 0.4333\n",
      "Epoch 6/1000\n",
      " 1/36 [..............................] - ETA: 0s - loss: 1.7033 - accuracy: 0.3828\n",
      "Epoch 6: saving model to model/keypoint_classifier\\keypoint_classifier.hdf5\n",
      "36/36 [==============================] - 0s 2ms/step - loss: 1.6680 - accuracy: 0.3922 - val_loss: 1.5320 - val_accuracy: 0.5176\n",
      "Epoch 7/1000\n",
      " 1/36 [..............................] - ETA: 0s - loss: 1.4316 - accuracy: 0.5156\n",
      "Epoch 7: saving model to model/keypoint_classifier\\keypoint_classifier.hdf5\n",
      "36/36 [==============================] - 0s 2ms/step - loss: 1.5991 - accuracy: 0.4236 - val_loss: 1.4582 - val_accuracy: 0.5328\n",
      "Epoch 8/1000\n",
      " 1/36 [..............................] - ETA: 0s - loss: 1.5437 - accuracy: 0.4922\n",
      "Epoch 8: saving model to model/keypoint_classifier\\keypoint_classifier.hdf5\n",
      "36/36 [==============================] - 0s 2ms/step - loss: 1.5600 - accuracy: 0.4453 - val_loss: 1.3888 - val_accuracy: 0.5534\n",
      "Epoch 9/1000\n",
      " 1/36 [..............................] - ETA: 0s - loss: 1.6404 - accuracy: 0.4141\n",
      "Epoch 9: saving model to model/keypoint_classifier\\keypoint_classifier.hdf5\n",
      "36/36 [==============================] - 0s 2ms/step - loss: 1.5098 - accuracy: 0.4491 - val_loss: 1.3271 - val_accuracy: 0.5813\n",
      "Epoch 10/1000\n",
      " 1/36 [..............................] - ETA: 0s - loss: 1.3939 - accuracy: 0.5156\n",
      "Epoch 10: saving model to model/keypoint_classifier\\keypoint_classifier.hdf5\n",
      "36/36 [==============================] - 0s 2ms/step - loss: 1.4546 - accuracy: 0.4646 - val_loss: 1.2686 - val_accuracy: 0.5893\n",
      "Epoch 11/1000\n",
      " 1/36 [..............................] - ETA: 0s - loss: 1.3785 - accuracy: 0.5078\n",
      "Epoch 11: saving model to model/keypoint_classifier\\keypoint_classifier.hdf5\n",
      "36/36 [==============================] - 0s 2ms/step - loss: 1.4041 - accuracy: 0.4956 - val_loss: 1.2112 - val_accuracy: 0.5893\n",
      "Epoch 12/1000\n",
      " 1/36 [..............................] - ETA: 0s - loss: 1.3330 - accuracy: 0.4922\n",
      "Epoch 12: saving model to model/keypoint_classifier\\keypoint_classifier.hdf5\n",
      "36/36 [==============================] - 0s 2ms/step - loss: 1.3792 - accuracy: 0.4947 - val_loss: 1.1608 - val_accuracy: 0.6032\n",
      "Epoch 13/1000\n",
      " 1/36 [..............................] - ETA: 0s - loss: 1.3230 - accuracy: 0.5156\n",
      "Epoch 13: saving model to model/keypoint_classifier\\keypoint_classifier.hdf5\n",
      "36/36 [==============================] - 0s 2ms/step - loss: 1.3486 - accuracy: 0.5009 - val_loss: 1.1146 - val_accuracy: 0.6045\n",
      "Epoch 14/1000\n",
      " 1/36 [..............................] - ETA: 0s - loss: 1.4950 - accuracy: 0.4922\n",
      "Epoch 14: saving model to model/keypoint_classifier\\keypoint_classifier.hdf5\n",
      "36/36 [==============================] - 0s 2ms/step - loss: 1.3081 - accuracy: 0.5100 - val_loss: 1.0767 - val_accuracy: 0.6211\n",
      "Epoch 15/1000\n",
      " 1/36 [..............................] - ETA: 0s - loss: 1.2693 - accuracy: 0.4766\n",
      "Epoch 15: saving model to model/keypoint_classifier\\keypoint_classifier.hdf5\n",
      "36/36 [==============================] - 0s 2ms/step - loss: 1.2914 - accuracy: 0.5120 - val_loss: 1.0337 - val_accuracy: 0.6417\n",
      "Epoch 16/1000\n",
      " 1/36 [..............................] - ETA: 0s - loss: 1.3573 - accuracy: 0.4531\n",
      "Epoch 16: saving model to model/keypoint_classifier\\keypoint_classifier.hdf5\n",
      "36/36 [==============================] - 0s 2ms/step - loss: 1.2667 - accuracy: 0.5228 - val_loss: 1.0100 - val_accuracy: 0.6682\n",
      "Epoch 17/1000\n",
      " 1/36 [..............................] - ETA: 0s - loss: 1.3113 - accuracy: 0.5078\n",
      "Epoch 17: saving model to model/keypoint_classifier\\keypoint_classifier.hdf5\n",
      "36/36 [==============================] - 0s 2ms/step - loss: 1.2350 - accuracy: 0.5425 - val_loss: 0.9715 - val_accuracy: 0.6622\n",
      "Epoch 18/1000\n",
      " 1/36 [..............................] - ETA: 0s - loss: 1.0726 - accuracy: 0.6250\n",
      "Epoch 18: saving model to model/keypoint_classifier\\keypoint_classifier.hdf5\n",
      "36/36 [==============================] - 0s 2ms/step - loss: 1.2110 - accuracy: 0.5511 - val_loss: 0.9423 - val_accuracy: 0.6894\n",
      "Epoch 19/1000\n",
      " 1/36 [..............................] - ETA: 0s - loss: 1.1438 - accuracy: 0.5469\n",
      "Epoch 19: saving model to model/keypoint_classifier\\keypoint_classifier.hdf5\n",
      "36/36 [==============================] - 0s 2ms/step - loss: 1.2038 - accuracy: 0.5460 - val_loss: 0.9144 - val_accuracy: 0.7040\n",
      "Epoch 20/1000\n",
      " 1/36 [..............................] - ETA: 0s - loss: 1.0344 - accuracy: 0.6250\n",
      "Epoch 20: saving model to model/keypoint_classifier\\keypoint_classifier.hdf5\n",
      "36/36 [==============================] - 0s 2ms/step - loss: 1.1699 - accuracy: 0.5660 - val_loss: 0.8870 - val_accuracy: 0.7107\n",
      "Epoch 21/1000\n",
      " 1/36 [..............................] - ETA: 0s - loss: 1.2320 - accuracy: 0.5391\n",
      "Epoch 21: saving model to model/keypoint_classifier\\keypoint_classifier.hdf5\n",
      "36/36 [==============================] - 0s 2ms/step - loss: 1.1569 - accuracy: 0.5686 - val_loss: 0.8638 - val_accuracy: 0.7319\n",
      "Epoch 22/1000\n",
      " 1/36 [..............................] - ETA: 0s - loss: 1.1886 - accuracy: 0.5781\n",
      "Epoch 22: saving model to model/keypoint_classifier\\keypoint_classifier.hdf5\n",
      "36/36 [==============================] - 0s 2ms/step - loss: 1.1566 - accuracy: 0.5680 - val_loss: 0.8452 - val_accuracy: 0.7465\n",
      "Epoch 23/1000\n",
      " 1/36 [..............................] - ETA: 0s - loss: 1.1383 - accuracy: 0.5625\n",
      "Epoch 23: saving model to model/keypoint_classifier\\keypoint_classifier.hdf5\n",
      "36/36 [==============================] - 0s 2ms/step - loss: 1.1274 - accuracy: 0.5792 - val_loss: 0.8199 - val_accuracy: 0.7611\n",
      "Epoch 24/1000\n",
      " 1/36 [..............................] - ETA: 0s - loss: 1.1441 - accuracy: 0.5469\n",
      "Epoch 24: saving model to model/keypoint_classifier\\keypoint_classifier.hdf5\n",
      "36/36 [==============================] - 0s 2ms/step - loss: 1.1234 - accuracy: 0.5748 - val_loss: 0.8044 - val_accuracy: 0.7658\n",
      "Epoch 25/1000\n",
      " 1/36 [..............................] - ETA: 0s - loss: 1.1246 - accuracy: 0.5781\n",
      "Epoch 25: saving model to model/keypoint_classifier\\keypoint_classifier.hdf5\n",
      "36/36 [==============================] - 0s 2ms/step - loss: 1.1160 - accuracy: 0.5834 - val_loss: 0.7926 - val_accuracy: 0.7810\n",
      "Epoch 26/1000\n",
      " 1/36 [..............................] - ETA: 0s - loss: 1.2053 - accuracy: 0.5781\n",
      "Epoch 26: saving model to model/keypoint_classifier\\keypoint_classifier.hdf5\n",
      "36/36 [==============================] - 0s 2ms/step - loss: 1.0873 - accuracy: 0.5992 - val_loss: 0.7769 - val_accuracy: 0.7916\n",
      "Epoch 27/1000\n",
      " 1/36 [..............................] - ETA: 0s - loss: 1.1289 - accuracy: 0.6094\n",
      "Epoch 27: saving model to model/keypoint_classifier\\keypoint_classifier.hdf5\n",
      "36/36 [==============================] - 0s 2ms/step - loss: 1.0798 - accuracy: 0.6029 - val_loss: 0.7471 - val_accuracy: 0.8082\n",
      "Epoch 28/1000\n",
      " 1/36 [..............................] - ETA: 0s - loss: 1.0063 - accuracy: 0.6797\n",
      "Epoch 28: saving model to model/keypoint_classifier\\keypoint_classifier.hdf5\n",
      "36/36 [==============================] - 0s 2ms/step - loss: 1.0834 - accuracy: 0.5967 - val_loss: 0.7391 - val_accuracy: 0.8076\n",
      "Epoch 29/1000\n",
      " 1/36 [..............................] - ETA: 0s - loss: 1.2909 - accuracy: 0.5234\n",
      "Epoch 29: saving model to model/keypoint_classifier\\keypoint_classifier.hdf5\n",
      "36/36 [==============================] - 0s 2ms/step - loss: 1.0525 - accuracy: 0.6096 - val_loss: 0.7242 - val_accuracy: 0.8109\n",
      "Epoch 30/1000\n",
      " 1/36 [..............................] - ETA: 0s - loss: 0.9884 - accuracy: 0.6953\n",
      "Epoch 30: saving model to model/keypoint_classifier\\keypoint_classifier.hdf5\n",
      "36/36 [==============================] - 0s 2ms/step - loss: 1.0471 - accuracy: 0.6151 - val_loss: 0.7117 - val_accuracy: 0.8122\n",
      "Epoch 31/1000\n",
      " 1/36 [..............................] - ETA: 0s - loss: 1.0335 - accuracy: 0.5703\n",
      "Epoch 31: saving model to model/keypoint_classifier\\keypoint_classifier.hdf5\n",
      "36/36 [==============================] - 0s 2ms/step - loss: 1.0250 - accuracy: 0.6140 - val_loss: 0.6959 - val_accuracy: 0.8175\n",
      "Epoch 32/1000\n",
      " 1/36 [..............................] - ETA: 0s - loss: 0.9187 - accuracy: 0.6406\n",
      "Epoch 32: saving model to model/keypoint_classifier\\keypoint_classifier.hdf5\n",
      "36/36 [==============================] - 0s 2ms/step - loss: 1.0534 - accuracy: 0.6069 - val_loss: 0.6904 - val_accuracy: 0.8082\n",
      "Epoch 33/1000\n",
      " 1/36 [..............................] - ETA: 0s - loss: 1.0095 - accuracy: 0.6484\n",
      "Epoch 33: saving model to model/keypoint_classifier\\keypoint_classifier.hdf5\n",
      "36/36 [==============================] - 0s 2ms/step - loss: 1.0228 - accuracy: 0.6166 - val_loss: 0.6742 - val_accuracy: 0.8202\n",
      "Epoch 34/1000\n",
      " 1/36 [..............................] - ETA: 0s - loss: 1.0884 - accuracy: 0.6250\n",
      "Epoch 34: saving model to model/keypoint_classifier\\keypoint_classifier.hdf5\n",
      "36/36 [==============================] - 0s 2ms/step - loss: 1.0282 - accuracy: 0.6124 - val_loss: 0.6635 - val_accuracy: 0.8228\n",
      "Epoch 35/1000\n",
      " 1/36 [..............................] - ETA: 0s - loss: 0.8767 - accuracy: 0.6719\n",
      "Epoch 35: saving model to model/keypoint_classifier\\keypoint_classifier.hdf5\n",
      "36/36 [==============================] - 0s 2ms/step - loss: 1.0015 - accuracy: 0.6273 - val_loss: 0.6586 - val_accuracy: 0.8321\n",
      "Epoch 36/1000\n",
      " 1/36 [..............................] - ETA: 0s - loss: 0.9501 - accuracy: 0.6172\n",
      "Epoch 36: saving model to model/keypoint_classifier\\keypoint_classifier.hdf5\n",
      "36/36 [==============================] - 0s 2ms/step - loss: 1.0061 - accuracy: 0.6226 - val_loss: 0.6500 - val_accuracy: 0.8381\n",
      "Epoch 37/1000\n",
      " 1/36 [..............................] - ETA: 0s - loss: 0.8992 - accuracy: 0.6875\n",
      "Epoch 37: saving model to model/keypoint_classifier\\keypoint_classifier.hdf5\n",
      "36/36 [==============================] - 0s 2ms/step - loss: 0.9907 - accuracy: 0.6304 - val_loss: 0.6396 - val_accuracy: 0.8348\n",
      "Epoch 38/1000\n",
      " 1/36 [..............................] - ETA: 0s - loss: 1.0701 - accuracy: 0.6328\n",
      "Epoch 38: saving model to model/keypoint_classifier\\keypoint_classifier.hdf5\n",
      "36/36 [==============================] - 0s 2ms/step - loss: 0.9862 - accuracy: 0.6417 - val_loss: 0.6306 - val_accuracy: 0.8447\n",
      "Epoch 39/1000\n",
      " 1/36 [..............................] - ETA: 0s - loss: 1.0791 - accuracy: 0.6172\n",
      "Epoch 39: saving model to model/keypoint_classifier\\keypoint_classifier.hdf5\n",
      "36/36 [==============================] - 0s 2ms/step - loss: 1.0011 - accuracy: 0.6293 - val_loss: 0.6297 - val_accuracy: 0.8368\n",
      "Epoch 40/1000\n",
      " 1/36 [..............................] - ETA: 0s - loss: 1.1822 - accuracy: 0.5781\n",
      "Epoch 40: saving model to model/keypoint_classifier\\keypoint_classifier.hdf5\n",
      "36/36 [==============================] - 0s 2ms/step - loss: 0.9854 - accuracy: 0.6357 - val_loss: 0.6159 - val_accuracy: 0.8434\n",
      "Epoch 41/1000\n",
      " 1/36 [..............................] - ETA: 0s - loss: 1.0251 - accuracy: 0.6250\n",
      "Epoch 41: saving model to model/keypoint_classifier\\keypoint_classifier.hdf5\n",
      "36/36 [==============================] - 0s 2ms/step - loss: 0.9479 - accuracy: 0.6545 - val_loss: 0.6101 - val_accuracy: 0.8434\n",
      "Epoch 42/1000\n",
      " 1/36 [..............................] - ETA: 0s - loss: 1.1142 - accuracy: 0.5859\n",
      "Epoch 42: saving model to model/keypoint_classifier\\keypoint_classifier.hdf5\n",
      "36/36 [==============================] - 0s 2ms/step - loss: 0.9936 - accuracy: 0.6273 - val_loss: 0.6102 - val_accuracy: 0.8500\n",
      "Epoch 43/1000\n",
      " 1/36 [..............................] - ETA: 0s - loss: 0.8508 - accuracy: 0.6875\n",
      "Epoch 43: saving model to model/keypoint_classifier\\keypoint_classifier.hdf5\n",
      "36/36 [==============================] - 0s 2ms/step - loss: 0.9699 - accuracy: 0.6494 - val_loss: 0.6060 - val_accuracy: 0.8494\n",
      "Epoch 44/1000\n",
      " 1/36 [..............................] - ETA: 0s - loss: 0.9588 - accuracy: 0.6797\n",
      "Epoch 44: saving model to model/keypoint_classifier\\keypoint_classifier.hdf5\n",
      "36/36 [==============================] - 0s 2ms/step - loss: 0.9735 - accuracy: 0.6412 - val_loss: 0.6012 - val_accuracy: 0.8567\n",
      "Epoch 45/1000\n",
      " 1/36 [..............................] - ETA: 0s - loss: 0.8371 - accuracy: 0.6562\n",
      "Epoch 45: saving model to model/keypoint_classifier\\keypoint_classifier.hdf5\n",
      "36/36 [==============================] - 0s 2ms/step - loss: 0.9621 - accuracy: 0.6487 - val_loss: 0.5922 - val_accuracy: 0.8520\n",
      "Epoch 46/1000\n",
      " 1/36 [..............................] - ETA: 0s - loss: 0.8301 - accuracy: 0.6719\n",
      "Epoch 46: saving model to model/keypoint_classifier\\keypoint_classifier.hdf5\n",
      "36/36 [==============================] - 0s 2ms/step - loss: 0.9348 - accuracy: 0.6633 - val_loss: 0.5864 - val_accuracy: 0.8540\n",
      "Epoch 47/1000\n",
      " 1/36 [..............................] - ETA: 0s - loss: 0.9931 - accuracy: 0.6562\n",
      "Epoch 47: saving model to model/keypoint_classifier\\keypoint_classifier.hdf5\n",
      "36/36 [==============================] - 0s 2ms/step - loss: 0.9549 - accuracy: 0.6481 - val_loss: 0.5853 - val_accuracy: 0.8593\n",
      "Epoch 48/1000\n",
      " 1/36 [..............................] - ETA: 0s - loss: 0.9197 - accuracy: 0.6406\n",
      "Epoch 48: saving model to model/keypoint_classifier\\keypoint_classifier.hdf5\n",
      "36/36 [==============================] - 0s 2ms/step - loss: 0.9181 - accuracy: 0.6693 - val_loss: 0.5709 - val_accuracy: 0.8633\n",
      "Epoch 49/1000\n",
      " 1/36 [..............................] - ETA: 0s - loss: 1.1081 - accuracy: 0.6094\n",
      "Epoch 49: saving model to model/keypoint_classifier\\keypoint_classifier.hdf5\n",
      "36/36 [==============================] - 0s 2ms/step - loss: 0.9513 - accuracy: 0.6547 - val_loss: 0.5723 - val_accuracy: 0.8474\n",
      "Epoch 50/1000\n",
      " 1/36 [..............................] - ETA: 0s - loss: 1.0239 - accuracy: 0.6328\n",
      "Epoch 50: saving model to model/keypoint_classifier\\keypoint_classifier.hdf5\n",
      "36/36 [==============================] - 0s 2ms/step - loss: 0.9181 - accuracy: 0.6622 - val_loss: 0.5639 - val_accuracy: 0.8693\n",
      "Epoch 51/1000\n",
      " 1/36 [..............................] - ETA: 0s - loss: 0.9918 - accuracy: 0.6328\n",
      "Epoch 51: saving model to model/keypoint_classifier\\keypoint_classifier.hdf5\n",
      "36/36 [==============================] - 0s 2ms/step - loss: 0.9277 - accuracy: 0.6602 - val_loss: 0.5615 - val_accuracy: 0.8812\n",
      "Epoch 52/1000\n",
      " 1/36 [..............................] - ETA: 0s - loss: 0.9919 - accuracy: 0.6172\n",
      "Epoch 52: saving model to model/keypoint_classifier\\keypoint_classifier.hdf5\n",
      "36/36 [==============================] - 0s 2ms/step - loss: 0.9099 - accuracy: 0.6764 - val_loss: 0.5557 - val_accuracy: 0.8640\n",
      "Epoch 53/1000\n",
      " 1/36 [..............................] - ETA: 0s - loss: 0.9798 - accuracy: 0.6406\n",
      "Epoch 53: saving model to model/keypoint_classifier\\keypoint_classifier.hdf5\n",
      "36/36 [==============================] - 0s 2ms/step - loss: 0.9424 - accuracy: 0.6516 - val_loss: 0.5594 - val_accuracy: 0.8706\n",
      "Epoch 54/1000\n",
      " 1/36 [..............................] - ETA: 0s - loss: 0.9244 - accuracy: 0.6484\n",
      "Epoch 54: saving model to model/keypoint_classifier\\keypoint_classifier.hdf5\n",
      "36/36 [==============================] - 0s 2ms/step - loss: 0.9280 - accuracy: 0.6525 - val_loss: 0.5536 - val_accuracy: 0.8679\n",
      "Epoch 55/1000\n",
      " 1/36 [..............................] - ETA: 0s - loss: 0.9787 - accuracy: 0.6406\n",
      "Epoch 55: saving model to model/keypoint_classifier\\keypoint_classifier.hdf5\n",
      "36/36 [==============================] - 0s 2ms/step - loss: 0.9094 - accuracy: 0.6737 - val_loss: 0.5458 - val_accuracy: 0.8679\n",
      "Epoch 56/1000\n",
      " 1/36 [..............................] - ETA: 0s - loss: 0.9414 - accuracy: 0.6406\n",
      "Epoch 56: saving model to model/keypoint_classifier\\keypoint_classifier.hdf5\n",
      "36/36 [==============================] - 0s 2ms/step - loss: 0.9030 - accuracy: 0.6678 - val_loss: 0.5472 - val_accuracy: 0.8640\n",
      "Epoch 57/1000\n",
      " 1/36 [..............................] - ETA: 0s - loss: 0.8616 - accuracy: 0.6875\n",
      "Epoch 57: saving model to model/keypoint_classifier\\keypoint_classifier.hdf5\n",
      "36/36 [==============================] - 0s 2ms/step - loss: 0.9083 - accuracy: 0.6700 - val_loss: 0.5376 - val_accuracy: 0.8713\n",
      "Epoch 58/1000\n",
      " 1/36 [..............................] - ETA: 0s - loss: 0.8142 - accuracy: 0.6797\n",
      "Epoch 58: saving model to model/keypoint_classifier\\keypoint_classifier.hdf5\n",
      "36/36 [==============================] - 0s 2ms/step - loss: 0.8988 - accuracy: 0.6702 - val_loss: 0.5361 - val_accuracy: 0.8786\n",
      "Epoch 59/1000\n",
      " 1/36 [..............................] - ETA: 0s - loss: 0.8813 - accuracy: 0.6797\n",
      "Epoch 59: saving model to model/keypoint_classifier\\keypoint_classifier.hdf5\n",
      "36/36 [==============================] - 0s 2ms/step - loss: 0.9050 - accuracy: 0.6645 - val_loss: 0.5400 - val_accuracy: 0.8640\n",
      "Epoch 60/1000\n",
      " 1/36 [..............................] - ETA: 0s - loss: 0.8471 - accuracy: 0.6953\n",
      "Epoch 60: saving model to model/keypoint_classifier\\keypoint_classifier.hdf5\n",
      "36/36 [==============================] - 0s 2ms/step - loss: 0.9237 - accuracy: 0.6622 - val_loss: 0.5363 - val_accuracy: 0.8706\n",
      "Epoch 61/1000\n",
      " 1/36 [..............................] - ETA: 0s - loss: 0.9150 - accuracy: 0.6719\n",
      "Epoch 61: saving model to model/keypoint_classifier\\keypoint_classifier.hdf5\n",
      "36/36 [==============================] - 0s 2ms/step - loss: 0.8748 - accuracy: 0.6895 - val_loss: 0.5237 - val_accuracy: 0.8759\n",
      "Epoch 62/1000\n",
      " 1/36 [..............................] - ETA: 0s - loss: 0.8749 - accuracy: 0.7109\n",
      "Epoch 62: saving model to model/keypoint_classifier\\keypoint_classifier.hdf5\n",
      "36/36 [==============================] - 0s 2ms/step - loss: 0.8812 - accuracy: 0.6773 - val_loss: 0.5255 - val_accuracy: 0.8819\n",
      "Epoch 63/1000\n",
      " 1/36 [..............................] - ETA: 0s - loss: 1.0276 - accuracy: 0.5938\n",
      "Epoch 63: saving model to model/keypoint_classifier\\keypoint_classifier.hdf5\n",
      "36/36 [==============================] - 0s 2ms/step - loss: 0.9067 - accuracy: 0.6724 - val_loss: 0.5250 - val_accuracy: 0.8759\n",
      "Epoch 64/1000\n",
      " 1/36 [..............................] - ETA: 0s - loss: 0.9612 - accuracy: 0.6562\n",
      "Epoch 64: saving model to model/keypoint_classifier\\keypoint_classifier.hdf5\n",
      "36/36 [==============================] - 0s 2ms/step - loss: 0.8879 - accuracy: 0.6766 - val_loss: 0.5195 - val_accuracy: 0.8699\n",
      "Epoch 65/1000\n",
      " 1/36 [..............................] - ETA: 0s - loss: 0.9431 - accuracy: 0.6719\n",
      "Epoch 65: saving model to model/keypoint_classifier\\keypoint_classifier.hdf5\n",
      "36/36 [==============================] - 0s 2ms/step - loss: 0.8881 - accuracy: 0.6722 - val_loss: 0.5199 - val_accuracy: 0.8819\n",
      "Epoch 66/1000\n",
      " 1/36 [..............................] - ETA: 0s - loss: 0.9737 - accuracy: 0.6406\n",
      "Epoch 66: saving model to model/keypoint_classifier\\keypoint_classifier.hdf5\n",
      "36/36 [==============================] - 0s 2ms/step - loss: 0.8573 - accuracy: 0.6868 - val_loss: 0.5063 - val_accuracy: 0.8706\n",
      "Epoch 67/1000\n",
      " 1/36 [..............................] - ETA: 0s - loss: 0.9034 - accuracy: 0.6641\n",
      "Epoch 67: saving model to model/keypoint_classifier\\keypoint_classifier.hdf5\n",
      "36/36 [==============================] - 0s 2ms/step - loss: 0.8769 - accuracy: 0.6846 - val_loss: 0.5076 - val_accuracy: 0.8779\n",
      "Epoch 68/1000\n",
      " 1/36 [..............................] - ETA: 0s - loss: 0.7478 - accuracy: 0.7344\n",
      "Epoch 68: saving model to model/keypoint_classifier\\keypoint_classifier.hdf5\n",
      "36/36 [==============================] - 0s 2ms/step - loss: 0.8852 - accuracy: 0.6786 - val_loss: 0.5156 - val_accuracy: 0.8706\n",
      "Epoch 69/1000\n",
      " 1/36 [..............................] - ETA: 0s - loss: 0.8585 - accuracy: 0.7500\n",
      "Epoch 69: saving model to model/keypoint_classifier\\keypoint_classifier.hdf5\n",
      "36/36 [==============================] - 0s 2ms/step - loss: 0.8727 - accuracy: 0.6817 - val_loss: 0.5080 - val_accuracy: 0.8925\n",
      "Epoch 70/1000\n",
      " 1/36 [..............................] - ETA: 0s - loss: 0.9681 - accuracy: 0.6328\n",
      "Epoch 70: saving model to model/keypoint_classifier\\keypoint_classifier.hdf5\n",
      "36/36 [==============================] - 0s 2ms/step - loss: 0.8684 - accuracy: 0.6866 - val_loss: 0.5008 - val_accuracy: 0.8786\n",
      "Epoch 71/1000\n",
      " 1/36 [..............................] - ETA: 0s - loss: 1.0766 - accuracy: 0.6094\n",
      "Epoch 71: saving model to model/keypoint_classifier\\keypoint_classifier.hdf5\n",
      "36/36 [==============================] - 0s 2ms/step - loss: 0.8636 - accuracy: 0.6864 - val_loss: 0.5023 - val_accuracy: 0.8713\n",
      "Epoch 72/1000\n",
      " 1/36 [..............................] - ETA: 0s - loss: 0.7275 - accuracy: 0.7188\n",
      "Epoch 72: saving model to model/keypoint_classifier\\keypoint_classifier.hdf5\n",
      "36/36 [==============================] - 0s 2ms/step - loss: 0.8597 - accuracy: 0.6808 - val_loss: 0.4975 - val_accuracy: 0.8819\n",
      "Epoch 73/1000\n",
      " 1/36 [..............................] - ETA: 0s - loss: 0.9169 - accuracy: 0.6250\n",
      "Epoch 73: saving model to model/keypoint_classifier\\keypoint_classifier.hdf5\n",
      "36/36 [==============================] - 0s 2ms/step - loss: 0.8767 - accuracy: 0.6797 - val_loss: 0.5000 - val_accuracy: 0.8786\n",
      "Epoch 74/1000\n",
      " 1/36 [..............................] - ETA: 0s - loss: 0.8751 - accuracy: 0.6875\n",
      "Epoch 74: saving model to model/keypoint_classifier\\keypoint_classifier.hdf5\n",
      "36/36 [==============================] - 0s 2ms/step - loss: 0.8729 - accuracy: 0.6824 - val_loss: 0.4963 - val_accuracy: 0.8772\n",
      "Epoch 75/1000\n",
      " 1/36 [..............................] - ETA: 0s - loss: 1.0037 - accuracy: 0.6484\n",
      "Epoch 75: saving model to model/keypoint_classifier\\keypoint_classifier.hdf5\n",
      "36/36 [==============================] - 0s 2ms/step - loss: 0.8693 - accuracy: 0.6795 - val_loss: 0.4961 - val_accuracy: 0.8812\n",
      "Epoch 76/1000\n",
      " 1/36 [..............................] - ETA: 0s - loss: 0.9653 - accuracy: 0.6562\n",
      "Epoch 76: saving model to model/keypoint_classifier\\keypoint_classifier.hdf5\n",
      "36/36 [==============================] - 0s 2ms/step - loss: 0.8528 - accuracy: 0.6957 - val_loss: 0.4896 - val_accuracy: 0.8799\n",
      "Epoch 77/1000\n",
      " 1/36 [..............................] - ETA: 0s - loss: 0.7744 - accuracy: 0.7188\n",
      "Epoch 77: saving model to model/keypoint_classifier\\keypoint_classifier.hdf5\n",
      "36/36 [==============================] - 0s 2ms/step - loss: 0.8467 - accuracy: 0.6901 - val_loss: 0.4938 - val_accuracy: 0.8746\n",
      "Epoch 78/1000\n",
      " 1/36 [..............................] - ETA: 0s - loss: 1.0256 - accuracy: 0.6562\n",
      "Epoch 78: saving model to model/keypoint_classifier\\keypoint_classifier.hdf5\n",
      "36/36 [==============================] - 0s 2ms/step - loss: 0.8497 - accuracy: 0.6946 - val_loss: 0.4835 - val_accuracy: 0.8898\n",
      "Epoch 79/1000\n",
      " 1/36 [..............................] - ETA: 0s - loss: 0.6888 - accuracy: 0.7422\n",
      "Epoch 79: saving model to model/keypoint_classifier\\keypoint_classifier.hdf5\n",
      "36/36 [==============================] - 0s 2ms/step - loss: 0.8595 - accuracy: 0.6943 - val_loss: 0.4921 - val_accuracy: 0.8859\n",
      "Epoch 80/1000\n",
      " 1/36 [..............................] - ETA: 0s - loss: 0.9162 - accuracy: 0.6172\n",
      "Epoch 80: saving model to model/keypoint_classifier\\keypoint_classifier.hdf5\n",
      "36/36 [==============================] - 0s 2ms/step - loss: 0.8599 - accuracy: 0.6870 - val_loss: 0.4805 - val_accuracy: 0.8872\n",
      "Epoch 81/1000\n",
      " 1/36 [..............................] - ETA: 0s - loss: 0.7609 - accuracy: 0.7344\n",
      "Epoch 81: saving model to model/keypoint_classifier\\keypoint_classifier.hdf5\n",
      "36/36 [==============================] - 0s 2ms/step - loss: 0.8864 - accuracy: 0.6788 - val_loss: 0.4903 - val_accuracy: 0.8819\n",
      "Epoch 82/1000\n",
      " 1/36 [..............................] - ETA: 0s - loss: 0.9030 - accuracy: 0.6719\n",
      "Epoch 82: saving model to model/keypoint_classifier\\keypoint_classifier.hdf5\n",
      "36/36 [==============================] - 0s 2ms/step - loss: 0.8674 - accuracy: 0.6850 - val_loss: 0.4893 - val_accuracy: 0.8852\n",
      "Epoch 83/1000\n",
      " 1/36 [..............................] - ETA: 0s - loss: 0.6246 - accuracy: 0.7969\n",
      "Epoch 83: saving model to model/keypoint_classifier\\keypoint_classifier.hdf5\n",
      "36/36 [==============================] - 0s 2ms/step - loss: 0.8498 - accuracy: 0.6899 - val_loss: 0.4918 - val_accuracy: 0.8733\n",
      "Epoch 84/1000\n",
      " 1/36 [..............................] - ETA: 0s - loss: 0.8404 - accuracy: 0.7188\n",
      "Epoch 84: saving model to model/keypoint_classifier\\keypoint_classifier.hdf5\n",
      "36/36 [==============================] - 0s 2ms/step - loss: 0.8586 - accuracy: 0.6910 - val_loss: 0.4901 - val_accuracy: 0.8759\n",
      "Epoch 85/1000\n",
      " 1/36 [..............................] - ETA: 0s - loss: 0.7261 - accuracy: 0.7344\n",
      "Epoch 85: saving model to model/keypoint_classifier\\keypoint_classifier.hdf5\n",
      "36/36 [==============================] - 0s 2ms/step - loss: 0.8412 - accuracy: 0.6903 - val_loss: 0.4805 - val_accuracy: 0.8845\n",
      "Epoch 86/1000\n",
      " 1/36 [..............................] - ETA: 0s - loss: 0.8674 - accuracy: 0.6641\n",
      "Epoch 86: saving model to model/keypoint_classifier\\keypoint_classifier.hdf5\n",
      "36/36 [==============================] - 0s 2ms/step - loss: 0.8449 - accuracy: 0.6921 - val_loss: 0.4750 - val_accuracy: 0.8839\n",
      "Epoch 87/1000\n",
      " 1/36 [..............................] - ETA: 0s - loss: 0.8753 - accuracy: 0.6406\n",
      "Epoch 87: saving model to model/keypoint_classifier\\keypoint_classifier.hdf5\n",
      "36/36 [==============================] - 0s 2ms/step - loss: 0.8343 - accuracy: 0.6996 - val_loss: 0.4742 - val_accuracy: 0.8845\n",
      "Epoch 88/1000\n",
      " 1/36 [..............................] - ETA: 0s - loss: 0.8238 - accuracy: 0.6797\n",
      "Epoch 88: saving model to model/keypoint_classifier\\keypoint_classifier.hdf5\n",
      "36/36 [==============================] - 0s 2ms/step - loss: 0.8552 - accuracy: 0.6819 - val_loss: 0.4722 - val_accuracy: 0.8865\n",
      "Epoch 89/1000\n",
      " 1/36 [..............................] - ETA: 0s - loss: 0.7986 - accuracy: 0.7422\n",
      "Epoch 89: saving model to model/keypoint_classifier\\keypoint_classifier.hdf5\n",
      "36/36 [==============================] - 0s 2ms/step - loss: 0.8622 - accuracy: 0.6749 - val_loss: 0.4801 - val_accuracy: 0.8872\n",
      "Epoch 90/1000\n",
      " 1/36 [..............................] - ETA: 0s - loss: 0.8170 - accuracy: 0.6953\n",
      "Epoch 90: saving model to model/keypoint_classifier\\keypoint_classifier.hdf5\n",
      "36/36 [==============================] - 0s 2ms/step - loss: 0.8427 - accuracy: 0.6950 - val_loss: 0.4835 - val_accuracy: 0.8806\n",
      "Epoch 91/1000\n",
      " 1/36 [..............................] - ETA: 0s - loss: 0.8574 - accuracy: 0.6719\n",
      "Epoch 91: saving model to model/keypoint_classifier\\keypoint_classifier.hdf5\n",
      "36/36 [==============================] - 0s 2ms/step - loss: 0.8340 - accuracy: 0.6981 - val_loss: 0.4672 - val_accuracy: 0.8879\n",
      "Epoch 92/1000\n",
      " 1/36 [..............................] - ETA: 0s - loss: 0.7589 - accuracy: 0.6797\n",
      "Epoch 92: saving model to model/keypoint_classifier\\keypoint_classifier.hdf5\n",
      "36/36 [==============================] - 0s 2ms/step - loss: 0.8219 - accuracy: 0.6974 - val_loss: 0.4630 - val_accuracy: 0.8819\n",
      "Epoch 93/1000\n",
      " 1/36 [..............................] - ETA: 0s - loss: 0.8944 - accuracy: 0.6719\n",
      "Epoch 93: saving model to model/keypoint_classifier\\keypoint_classifier.hdf5\n",
      "36/36 [==============================] - 0s 2ms/step - loss: 0.8259 - accuracy: 0.7016 - val_loss: 0.4637 - val_accuracy: 0.8859\n",
      "Epoch 94/1000\n",
      " 1/36 [..............................] - ETA: 0s - loss: 0.8650 - accuracy: 0.6953\n",
      "Epoch 94: saving model to model/keypoint_classifier\\keypoint_classifier.hdf5\n",
      "36/36 [==============================] - 0s 2ms/step - loss: 0.8563 - accuracy: 0.6884 - val_loss: 0.4739 - val_accuracy: 0.8965\n",
      "Epoch 95/1000\n",
      " 1/36 [..............................] - ETA: 0s - loss: 0.8889 - accuracy: 0.6953\n",
      "Epoch 95: saving model to model/keypoint_classifier\\keypoint_classifier.hdf5\n",
      "36/36 [==============================] - 0s 2ms/step - loss: 0.8399 - accuracy: 0.6941 - val_loss: 0.4652 - val_accuracy: 0.8925\n",
      "Epoch 96/1000\n",
      " 1/36 [..............................] - ETA: 0s - loss: 0.6976 - accuracy: 0.7344\n",
      "Epoch 96: saving model to model/keypoint_classifier\\keypoint_classifier.hdf5\n",
      "36/36 [==============================] - 0s 2ms/step - loss: 0.8050 - accuracy: 0.7087 - val_loss: 0.4619 - val_accuracy: 0.8918\n",
      "Epoch 97/1000\n",
      " 1/36 [..............................] - ETA: 0s - loss: 0.6862 - accuracy: 0.7500\n",
      "Epoch 97: saving model to model/keypoint_classifier\\keypoint_classifier.hdf5\n",
      "36/36 [==============================] - 0s 2ms/step - loss: 0.8327 - accuracy: 0.6946 - val_loss: 0.4633 - val_accuracy: 0.8859\n",
      "Epoch 98/1000\n",
      " 1/36 [..............................] - ETA: 0s - loss: 0.9736 - accuracy: 0.6328\n",
      "Epoch 98: saving model to model/keypoint_classifier\\keypoint_classifier.hdf5\n",
      "36/36 [==============================] - 0s 2ms/step - loss: 0.8131 - accuracy: 0.7052 - val_loss: 0.4507 - val_accuracy: 0.8991\n",
      "Epoch 99/1000\n",
      " 1/36 [..............................] - ETA: 0s - loss: 0.7060 - accuracy: 0.7109\n",
      "Epoch 99: saving model to model/keypoint_classifier\\keypoint_classifier.hdf5\n",
      "36/36 [==============================] - 0s 2ms/step - loss: 0.8184 - accuracy: 0.7014 - val_loss: 0.4586 - val_accuracy: 0.8839\n",
      "Epoch 100/1000\n",
      " 1/36 [..............................] - ETA: 0s - loss: 0.9169 - accuracy: 0.6172\n",
      "Epoch 100: saving model to model/keypoint_classifier\\keypoint_classifier.hdf5\n",
      "36/36 [==============================] - 0s 2ms/step - loss: 0.8165 - accuracy: 0.6996 - val_loss: 0.4525 - val_accuracy: 0.8952\n",
      "Epoch 101/1000\n",
      " 1/36 [..............................] - ETA: 0s - loss: 0.8097 - accuracy: 0.6797\n",
      "Epoch 101: saving model to model/keypoint_classifier\\keypoint_classifier.hdf5\n",
      "36/36 [==============================] - 0s 2ms/step - loss: 0.8242 - accuracy: 0.7014 - val_loss: 0.4618 - val_accuracy: 0.8792\n",
      "Epoch 102/1000\n",
      " 1/36 [..............................] - ETA: 0s - loss: 0.8710 - accuracy: 0.7188\n",
      "Epoch 102: saving model to model/keypoint_classifier\\keypoint_classifier.hdf5\n",
      "36/36 [==============================] - 0s 2ms/step - loss: 0.8124 - accuracy: 0.6983 - val_loss: 0.4423 - val_accuracy: 0.8978\n",
      "Epoch 103/1000\n",
      " 1/36 [..............................] - ETA: 0s - loss: 0.7852 - accuracy: 0.7188\n",
      "Epoch 103: saving model to model/keypoint_classifier\\keypoint_classifier.hdf5\n",
      "36/36 [==============================] - 0s 2ms/step - loss: 0.8263 - accuracy: 0.6928 - val_loss: 0.4507 - val_accuracy: 0.8892\n",
      "Epoch 104/1000\n",
      " 1/36 [..............................] - ETA: 0s - loss: 0.7786 - accuracy: 0.7266\n",
      "Epoch 104: saving model to model/keypoint_classifier\\keypoint_classifier.hdf5\n",
      "36/36 [==============================] - 0s 2ms/step - loss: 0.8105 - accuracy: 0.7036 - val_loss: 0.4404 - val_accuracy: 0.8898\n",
      "Epoch 105/1000\n",
      " 1/36 [..............................] - ETA: 0s - loss: 0.8119 - accuracy: 0.7109\n",
      "Epoch 105: saving model to model/keypoint_classifier\\keypoint_classifier.hdf5\n",
      "36/36 [==============================] - 0s 2ms/step - loss: 0.8251 - accuracy: 0.6941 - val_loss: 0.4439 - val_accuracy: 0.8918\n",
      "Epoch 106/1000\n",
      " 1/36 [..............................] - ETA: 0s - loss: 0.7552 - accuracy: 0.7656\n",
      "Epoch 106: saving model to model/keypoint_classifier\\keypoint_classifier.hdf5\n",
      "36/36 [==============================] - 0s 2ms/step - loss: 0.8021 - accuracy: 0.7118 - val_loss: 0.4488 - val_accuracy: 0.8905\n",
      "Epoch 107/1000\n",
      " 1/36 [..............................] - ETA: 0s - loss: 0.7040 - accuracy: 0.7266\n",
      "Epoch 107: saving model to model/keypoint_classifier\\keypoint_classifier.hdf5\n",
      "36/36 [==============================] - 0s 2ms/step - loss: 0.8075 - accuracy: 0.6996 - val_loss: 0.4436 - val_accuracy: 0.8912\n",
      "Epoch 108/1000\n",
      " 1/36 [..............................] - ETA: 0s - loss: 0.8764 - accuracy: 0.7109\n",
      "Epoch 108: saving model to model/keypoint_classifier\\keypoint_classifier.hdf5\n",
      "36/36 [==============================] - 0s 2ms/step - loss: 0.8028 - accuracy: 0.7083 - val_loss: 0.4442 - val_accuracy: 0.8872\n",
      "Epoch 109/1000\n",
      " 1/36 [..............................] - ETA: 0s - loss: 0.7612 - accuracy: 0.7578\n",
      "Epoch 109: saving model to model/keypoint_classifier\\keypoint_classifier.hdf5\n",
      "36/36 [==============================] - 0s 2ms/step - loss: 0.8054 - accuracy: 0.7103 - val_loss: 0.4377 - val_accuracy: 0.8918\n",
      "Epoch 110/1000\n",
      " 1/36 [..............................] - ETA: 0s - loss: 0.7917 - accuracy: 0.6797\n",
      "Epoch 110: saving model to model/keypoint_classifier\\keypoint_classifier.hdf5\n",
      "36/36 [==============================] - 0s 2ms/step - loss: 0.7824 - accuracy: 0.7180 - val_loss: 0.4345 - val_accuracy: 0.8918\n",
      "Epoch 111/1000\n",
      " 1/36 [..............................] - ETA: 0s - loss: 0.8143 - accuracy: 0.6953\n",
      "Epoch 111: saving model to model/keypoint_classifier\\keypoint_classifier.hdf5\n",
      "36/36 [==============================] - 0s 2ms/step - loss: 0.8200 - accuracy: 0.6965 - val_loss: 0.4346 - val_accuracy: 0.8918\n",
      "Epoch 112/1000\n",
      " 1/36 [..............................] - ETA: 0s - loss: 0.7641 - accuracy: 0.7266\n",
      "Epoch 112: saving model to model/keypoint_classifier\\keypoint_classifier.hdf5\n",
      "36/36 [==============================] - 0s 2ms/step - loss: 0.8081 - accuracy: 0.7096 - val_loss: 0.4402 - val_accuracy: 0.8872\n",
      "Epoch 113/1000\n",
      " 1/36 [..............................] - ETA: 0s - loss: 0.7434 - accuracy: 0.7578\n",
      "Epoch 113: saving model to model/keypoint_classifier\\keypoint_classifier.hdf5\n",
      "36/36 [==============================] - 0s 2ms/step - loss: 0.8062 - accuracy: 0.7112 - val_loss: 0.4395 - val_accuracy: 0.8872\n",
      "Epoch 114/1000\n",
      " 1/36 [..............................] - ETA: 0s - loss: 0.7786 - accuracy: 0.7344\n",
      "Epoch 114: saving model to model/keypoint_classifier\\keypoint_classifier.hdf5\n",
      "36/36 [==============================] - 0s 2ms/step - loss: 0.7914 - accuracy: 0.7100 - val_loss: 0.4303 - val_accuracy: 0.8965\n",
      "Epoch 115/1000\n",
      " 1/36 [..............................] - ETA: 0s - loss: 0.8544 - accuracy: 0.6641\n",
      "Epoch 115: saving model to model/keypoint_classifier\\keypoint_classifier.hdf5\n",
      "36/36 [==============================] - 0s 2ms/step - loss: 0.8106 - accuracy: 0.7027 - val_loss: 0.4322 - val_accuracy: 0.8978\n",
      "Epoch 116/1000\n",
      " 1/36 [..............................] - ETA: 0s - loss: 0.8899 - accuracy: 0.7109\n",
      "Epoch 116: saving model to model/keypoint_classifier\\keypoint_classifier.hdf5\n",
      "36/36 [==============================] - 0s 2ms/step - loss: 0.7884 - accuracy: 0.7127 - val_loss: 0.4314 - val_accuracy: 0.8912\n",
      "Epoch 117/1000\n",
      " 1/36 [..............................] - ETA: 0s - loss: 0.7379 - accuracy: 0.7656\n",
      "Epoch 117: saving model to model/keypoint_classifier\\keypoint_classifier.hdf5\n",
      "36/36 [==============================] - 0s 2ms/step - loss: 0.7976 - accuracy: 0.7162 - val_loss: 0.4409 - val_accuracy: 0.8912\n",
      "Epoch 118/1000\n",
      " 1/36 [..............................] - ETA: 0s - loss: 0.8196 - accuracy: 0.6719\n",
      "Epoch 118: saving model to model/keypoint_classifier\\keypoint_classifier.hdf5\n",
      "36/36 [==============================] - 0s 2ms/step - loss: 0.8008 - accuracy: 0.7032 - val_loss: 0.4285 - val_accuracy: 0.9031\n",
      "Epoch 119/1000\n",
      " 1/36 [..............................] - ETA: 0s - loss: 0.6840 - accuracy: 0.7031\n",
      "Epoch 119: saving model to model/keypoint_classifier\\keypoint_classifier.hdf5\n",
      "36/36 [==============================] - 0s 2ms/step - loss: 0.7847 - accuracy: 0.7120 - val_loss: 0.4238 - val_accuracy: 0.8918\n",
      "Epoch 120/1000\n",
      " 1/36 [..............................] - ETA: 0s - loss: 0.6556 - accuracy: 0.7891\n",
      "Epoch 120: saving model to model/keypoint_classifier\\keypoint_classifier.hdf5\n",
      "36/36 [==============================] - 0s 2ms/step - loss: 0.7818 - accuracy: 0.7160 - val_loss: 0.4257 - val_accuracy: 0.8912\n",
      "Epoch 121/1000\n",
      " 1/36 [..............................] - ETA: 0s - loss: 0.8870 - accuracy: 0.7109\n",
      "Epoch 121: saving model to model/keypoint_classifier\\keypoint_classifier.hdf5\n",
      "36/36 [==============================] - 0s 2ms/step - loss: 0.7820 - accuracy: 0.7109 - val_loss: 0.4275 - val_accuracy: 0.8938\n",
      "Epoch 122/1000\n",
      " 1/36 [..............................] - ETA: 0s - loss: 0.7574 - accuracy: 0.7500\n",
      "Epoch 122: saving model to model/keypoint_classifier\\keypoint_classifier.hdf5\n",
      "36/36 [==============================] - 0s 2ms/step - loss: 0.7914 - accuracy: 0.7103 - val_loss: 0.4338 - val_accuracy: 0.8885\n",
      "Epoch 123/1000\n",
      " 1/36 [..............................] - ETA: 0s - loss: 1.0197 - accuracy: 0.6875\n",
      "Epoch 123: saving model to model/keypoint_classifier\\keypoint_classifier.hdf5\n",
      "36/36 [==============================] - 0s 2ms/step - loss: 0.7800 - accuracy: 0.7169 - val_loss: 0.4288 - val_accuracy: 0.8965\n",
      "Epoch 124/1000\n",
      " 1/36 [..............................] - ETA: 0s - loss: 0.7752 - accuracy: 0.7109\n",
      "Epoch 124: saving model to model/keypoint_classifier\\keypoint_classifier.hdf5\n",
      "36/36 [==============================] - 0s 2ms/step - loss: 0.7875 - accuracy: 0.7158 - val_loss: 0.4305 - val_accuracy: 0.8932\n",
      "Epoch 125/1000\n",
      " 1/36 [..............................] - ETA: 0s - loss: 0.7282 - accuracy: 0.7344\n",
      "Epoch 125: saving model to model/keypoint_classifier\\keypoint_classifier.hdf5\n",
      "36/36 [==============================] - 0s 2ms/step - loss: 0.7790 - accuracy: 0.7229 - val_loss: 0.4294 - val_accuracy: 0.8898\n",
      "Epoch 126/1000\n",
      " 1/36 [..............................] - ETA: 0s - loss: 0.7026 - accuracy: 0.7578\n",
      "Epoch 126: saving model to model/keypoint_classifier\\keypoint_classifier.hdf5\n",
      "36/36 [==============================] - 0s 2ms/step - loss: 0.7771 - accuracy: 0.7131 - val_loss: 0.4201 - val_accuracy: 0.9025\n",
      "Epoch 127/1000\n",
      " 1/36 [..............................] - ETA: 0s - loss: 0.7798 - accuracy: 0.7344\n",
      "Epoch 127: saving model to model/keypoint_classifier\\keypoint_classifier.hdf5\n",
      "36/36 [==============================] - 0s 2ms/step - loss: 0.7799 - accuracy: 0.7131 - val_loss: 0.4170 - val_accuracy: 0.9011\n",
      "Epoch 128/1000\n",
      " 1/36 [..............................] - ETA: 0s - loss: 0.7890 - accuracy: 0.7188\n",
      "Epoch 128: saving model to model/keypoint_classifier\\keypoint_classifier.hdf5\n",
      "36/36 [==============================] - 0s 2ms/step - loss: 0.8015 - accuracy: 0.7052 - val_loss: 0.4260 - val_accuracy: 0.8932\n",
      "Epoch 129/1000\n",
      " 1/36 [..............................] - ETA: 0s - loss: 0.7898 - accuracy: 0.7188\n",
      "Epoch 129: saving model to model/keypoint_classifier\\keypoint_classifier.hdf5\n",
      "36/36 [==============================] - 0s 2ms/step - loss: 0.7793 - accuracy: 0.7116 - val_loss: 0.4262 - val_accuracy: 0.8945\n",
      "Epoch 130/1000\n",
      " 1/36 [..............................] - ETA: 0s - loss: 0.7895 - accuracy: 0.6953\n",
      "Epoch 130: saving model to model/keypoint_classifier\\keypoint_classifier.hdf5\n",
      "36/36 [==============================] - 0s 2ms/step - loss: 0.7773 - accuracy: 0.7169 - val_loss: 0.4162 - val_accuracy: 0.8958\n",
      "Epoch 131/1000\n",
      " 1/36 [..............................] - ETA: 0s - loss: 0.8230 - accuracy: 0.7422\n",
      "Epoch 131: saving model to model/keypoint_classifier\\keypoint_classifier.hdf5\n",
      "36/36 [==============================] - 0s 2ms/step - loss: 0.7767 - accuracy: 0.7191 - val_loss: 0.4212 - val_accuracy: 0.8945\n",
      "Epoch 132/1000\n",
      " 1/36 [..............................] - ETA: 0s - loss: 0.9337 - accuracy: 0.6562\n",
      "Epoch 132: saving model to model/keypoint_classifier\\keypoint_classifier.hdf5\n",
      "36/36 [==============================] - 0s 2ms/step - loss: 0.7829 - accuracy: 0.7131 - val_loss: 0.4222 - val_accuracy: 0.8978\n",
      "Epoch 133/1000\n",
      " 1/36 [..............................] - ETA: 0s - loss: 0.7790 - accuracy: 0.6875\n",
      "Epoch 133: saving model to model/keypoint_classifier\\keypoint_classifier.hdf5\n",
      "36/36 [==============================] - 0s 2ms/step - loss: 0.7872 - accuracy: 0.7100 - val_loss: 0.4187 - val_accuracy: 0.8952\n",
      "Epoch 134/1000\n",
      " 1/36 [..............................] - ETA: 0s - loss: 0.6689 - accuracy: 0.7344\n",
      "Epoch 134: saving model to model/keypoint_classifier\\keypoint_classifier.hdf5\n",
      "36/36 [==============================] - 0s 2ms/step - loss: 0.7733 - accuracy: 0.7149 - val_loss: 0.4146 - val_accuracy: 0.9018\n",
      "Epoch 135/1000\n",
      " 1/36 [..............................] - ETA: 0s - loss: 0.7719 - accuracy: 0.6875\n",
      "Epoch 135: saving model to model/keypoint_classifier\\keypoint_classifier.hdf5\n",
      "36/36 [==============================] - 0s 2ms/step - loss: 0.7609 - accuracy: 0.7236 - val_loss: 0.4217 - val_accuracy: 0.8945\n",
      "Epoch 136/1000\n",
      " 1/36 [..............................] - ETA: 0s - loss: 0.8313 - accuracy: 0.6875\n",
      "Epoch 136: saving model to model/keypoint_classifier\\keypoint_classifier.hdf5\n",
      "36/36 [==============================] - 0s 2ms/step - loss: 0.7754 - accuracy: 0.7178 - val_loss: 0.4130 - val_accuracy: 0.8998\n",
      "Epoch 137/1000\n",
      " 1/36 [..............................] - ETA: 0s - loss: 0.7779 - accuracy: 0.6797\n",
      "Epoch 137: saving model to model/keypoint_classifier\\keypoint_classifier.hdf5\n",
      "36/36 [==============================] - 0s 2ms/step - loss: 0.7860 - accuracy: 0.7187 - val_loss: 0.4237 - val_accuracy: 0.8932\n",
      "Epoch 138/1000\n",
      " 1/36 [..............................] - ETA: 0s - loss: 0.9146 - accuracy: 0.6484\n",
      "Epoch 138: saving model to model/keypoint_classifier\\keypoint_classifier.hdf5\n",
      "36/36 [==============================] - 0s 3ms/step - loss: 0.7658 - accuracy: 0.7249 - val_loss: 0.4110 - val_accuracy: 0.9038\n",
      "Epoch 139/1000\n",
      " 1/36 [..............................] - ETA: 0s - loss: 0.8494 - accuracy: 0.6875\n",
      "Epoch 139: saving model to model/keypoint_classifier\\keypoint_classifier.hdf5\n",
      "36/36 [==============================] - 0s 2ms/step - loss: 0.7814 - accuracy: 0.7180 - val_loss: 0.4185 - val_accuracy: 0.8912\n",
      "Epoch 140/1000\n",
      " 1/36 [..............................] - ETA: 0s - loss: 0.7453 - accuracy: 0.6797\n",
      "Epoch 140: saving model to model/keypoint_classifier\\keypoint_classifier.hdf5\n",
      "36/36 [==============================] - 0s 2ms/step - loss: 0.8067 - accuracy: 0.7067 - val_loss: 0.4130 - val_accuracy: 0.9051\n",
      "Epoch 141/1000\n",
      " 1/36 [..............................] - ETA: 0s - loss: 0.8007 - accuracy: 0.6953\n",
      "Epoch 141: saving model to model/keypoint_classifier\\keypoint_classifier.hdf5\n",
      "36/36 [==============================] - 0s 2ms/step - loss: 0.7794 - accuracy: 0.7114 - val_loss: 0.4121 - val_accuracy: 0.8985\n",
      "Epoch 142/1000\n",
      " 1/36 [..............................] - ETA: 0s - loss: 0.8087 - accuracy: 0.6953\n",
      "Epoch 142: saving model to model/keypoint_classifier\\keypoint_classifier.hdf5\n",
      "36/36 [==============================] - 0s 2ms/step - loss: 0.7690 - accuracy: 0.7158 - val_loss: 0.4128 - val_accuracy: 0.9071\n",
      "Epoch 143/1000\n",
      " 1/36 [..............................] - ETA: 0s - loss: 0.8487 - accuracy: 0.6797\n",
      "Epoch 143: saving model to model/keypoint_classifier\\keypoint_classifier.hdf5\n",
      "36/36 [==============================] - 0s 2ms/step - loss: 0.7724 - accuracy: 0.7218 - val_loss: 0.4133 - val_accuracy: 0.8998\n",
      "Epoch 144/1000\n",
      " 1/36 [..............................] - ETA: 0s - loss: 0.8873 - accuracy: 0.6328\n",
      "Epoch 144: saving model to model/keypoint_classifier\\keypoint_classifier.hdf5\n",
      "36/36 [==============================] - 0s 2ms/step - loss: 0.7686 - accuracy: 0.7176 - val_loss: 0.4136 - val_accuracy: 0.9005\n",
      "Epoch 145/1000\n",
      " 1/36 [..............................] - ETA: 0s - loss: 0.6910 - accuracy: 0.7578\n",
      "Epoch 145: saving model to model/keypoint_classifier\\keypoint_classifier.hdf5\n",
      "36/36 [==============================] - 0s 2ms/step - loss: 0.7610 - accuracy: 0.7211 - val_loss: 0.4040 - val_accuracy: 0.9071\n",
      "Epoch 146/1000\n",
      " 1/36 [..............................] - ETA: 0s - loss: 0.7223 - accuracy: 0.7188\n",
      "Epoch 146: saving model to model/keypoint_classifier\\keypoint_classifier.hdf5\n",
      "36/36 [==============================] - 0s 2ms/step - loss: 0.7649 - accuracy: 0.7222 - val_loss: 0.4151 - val_accuracy: 0.8952\n",
      "Epoch 147/1000\n",
      " 1/36 [..............................] - ETA: 0s - loss: 0.7911 - accuracy: 0.7109\n",
      "Epoch 147: saving model to model/keypoint_classifier\\keypoint_classifier.hdf5\n",
      "36/36 [==============================] - 0s 2ms/step - loss: 0.7778 - accuracy: 0.7160 - val_loss: 0.4103 - val_accuracy: 0.9064\n",
      "Epoch 148/1000\n",
      " 1/36 [..............................] - ETA: 0s - loss: 0.7126 - accuracy: 0.7812\n",
      "Epoch 148: saving model to model/keypoint_classifier\\keypoint_classifier.hdf5\n",
      "36/36 [==============================] - 0s 2ms/step - loss: 0.7636 - accuracy: 0.7205 - val_loss: 0.4100 - val_accuracy: 0.9018\n",
      "Epoch 149/1000\n",
      " 1/36 [..............................] - ETA: 0s - loss: 0.8341 - accuracy: 0.6875\n",
      "Epoch 149: saving model to model/keypoint_classifier\\keypoint_classifier.hdf5\n",
      "36/36 [==============================] - 0s 2ms/step - loss: 0.7747 - accuracy: 0.7185 - val_loss: 0.4106 - val_accuracy: 0.8985\n",
      "Epoch 150/1000\n",
      " 1/36 [..............................] - ETA: 0s - loss: 0.7503 - accuracy: 0.7266\n",
      "Epoch 150: saving model to model/keypoint_classifier\\keypoint_classifier.hdf5\n",
      "36/36 [==============================] - 0s 2ms/step - loss: 0.7534 - accuracy: 0.7269 - val_loss: 0.4087 - val_accuracy: 0.8998\n",
      "Epoch 151/1000\n",
      " 1/36 [..............................] - ETA: 0s - loss: 0.7847 - accuracy: 0.6875\n",
      "Epoch 151: saving model to model/keypoint_classifier\\keypoint_classifier.hdf5\n",
      "36/36 [==============================] - 0s 2ms/step - loss: 0.7779 - accuracy: 0.7154 - val_loss: 0.4157 - val_accuracy: 0.8938\n",
      "Epoch 152/1000\n",
      " 1/36 [..............................] - ETA: 0s - loss: 0.7357 - accuracy: 0.7500\n",
      "Epoch 152: saving model to model/keypoint_classifier\\keypoint_classifier.hdf5\n",
      "36/36 [==============================] - 0s 2ms/step - loss: 0.7745 - accuracy: 0.7205 - val_loss: 0.4121 - val_accuracy: 0.8985\n",
      "Epoch 153/1000\n",
      " 1/36 [..............................] - ETA: 0s - loss: 0.7387 - accuracy: 0.7500\n",
      "Epoch 153: saving model to model/keypoint_classifier\\keypoint_classifier.hdf5\n",
      "36/36 [==============================] - 0s 2ms/step - loss: 0.7517 - accuracy: 0.7315 - val_loss: 0.4071 - val_accuracy: 0.8938\n",
      "Epoch 154/1000\n",
      " 1/36 [..............................] - ETA: 0s - loss: 0.7626 - accuracy: 0.7266\n",
      "Epoch 154: saving model to model/keypoint_classifier\\keypoint_classifier.hdf5\n",
      "36/36 [==============================] - 0s 2ms/step - loss: 0.7641 - accuracy: 0.7189 - val_loss: 0.4092 - val_accuracy: 0.8978\n",
      "Epoch 155/1000\n",
      " 1/36 [..............................] - ETA: 0s - loss: 0.5914 - accuracy: 0.7969\n",
      "Epoch 155: saving model to model/keypoint_classifier\\keypoint_classifier.hdf5\n",
      "36/36 [==============================] - 0s 2ms/step - loss: 0.7534 - accuracy: 0.7311 - val_loss: 0.4080 - val_accuracy: 0.8978\n",
      "Epoch 156/1000\n",
      " 1/36 [..............................] - ETA: 0s - loss: 0.6786 - accuracy: 0.7812\n",
      "Epoch 156: saving model to model/keypoint_classifier\\keypoint_classifier.hdf5\n",
      "36/36 [==============================] - 0s 2ms/step - loss: 0.7671 - accuracy: 0.7211 - val_loss: 0.3998 - val_accuracy: 0.9051\n",
      "Epoch 157/1000\n",
      " 1/36 [..............................] - ETA: 0s - loss: 0.7284 - accuracy: 0.7500\n",
      "Epoch 157: saving model to model/keypoint_classifier\\keypoint_classifier.hdf5\n",
      "36/36 [==============================] - 0s 2ms/step - loss: 0.7556 - accuracy: 0.7220 - val_loss: 0.4085 - val_accuracy: 0.9071\n",
      "Epoch 158/1000\n",
      " 1/36 [..............................] - ETA: 0s - loss: 0.8690 - accuracy: 0.7188\n",
      "Epoch 158: saving model to model/keypoint_classifier\\keypoint_classifier.hdf5\n",
      "36/36 [==============================] - 0s 2ms/step - loss: 0.7597 - accuracy: 0.7176 - val_loss: 0.4019 - val_accuracy: 0.9051\n",
      "Epoch 159/1000\n",
      " 1/36 [..............................] - ETA: 0s - loss: 0.7520 - accuracy: 0.7109\n",
      "Epoch 159: saving model to model/keypoint_classifier\\keypoint_classifier.hdf5\n",
      "36/36 [==============================] - 0s 2ms/step - loss: 0.7596 - accuracy: 0.7317 - val_loss: 0.4037 - val_accuracy: 0.8998\n",
      "Epoch 160/1000\n",
      " 1/36 [..............................] - ETA: 0s - loss: 0.6856 - accuracy: 0.7344\n",
      "Epoch 160: saving model to model/keypoint_classifier\\keypoint_classifier.hdf5\n",
      "36/36 [==============================] - 0s 2ms/step - loss: 0.7656 - accuracy: 0.7249 - val_loss: 0.4061 - val_accuracy: 0.8985\n",
      "Epoch 161/1000\n",
      " 1/36 [..............................] - ETA: 0s - loss: 0.7429 - accuracy: 0.7266\n",
      "Epoch 161: saving model to model/keypoint_classifier\\keypoint_classifier.hdf5\n",
      "36/36 [==============================] - 0s 2ms/step - loss: 0.7383 - accuracy: 0.7253 - val_loss: 0.3997 - val_accuracy: 0.9058\n",
      "Epoch 162/1000\n",
      " 1/36 [..............................] - ETA: 0s - loss: 0.9401 - accuracy: 0.6641\n",
      "Epoch 162: saving model to model/keypoint_classifier\\keypoint_classifier.hdf5\n",
      "36/36 [==============================] - 0s 2ms/step - loss: 0.7624 - accuracy: 0.7169 - val_loss: 0.4116 - val_accuracy: 0.8958\n",
      "Epoch 163/1000\n",
      " 1/36 [..............................] - ETA: 0s - loss: 0.7002 - accuracy: 0.7578\n",
      "Epoch 163: saving model to model/keypoint_classifier\\keypoint_classifier.hdf5\n",
      "36/36 [==============================] - 0s 2ms/step - loss: 0.7394 - accuracy: 0.7293 - val_loss: 0.3957 - val_accuracy: 0.9164\n",
      "Epoch 164/1000\n",
      " 1/36 [..............................] - ETA: 0s - loss: 0.7267 - accuracy: 0.7422\n",
      "Epoch 164: saving model to model/keypoint_classifier\\keypoint_classifier.hdf5\n",
      "36/36 [==============================] - 0s 2ms/step - loss: 0.7461 - accuracy: 0.7289 - val_loss: 0.4031 - val_accuracy: 0.8991\n",
      "Epoch 165/1000\n",
      " 1/36 [..............................] - ETA: 0s - loss: 0.9232 - accuracy: 0.6641\n",
      "Epoch 165: saving model to model/keypoint_classifier\\keypoint_classifier.hdf5\n",
      "36/36 [==============================] - 0s 2ms/step - loss: 0.7450 - accuracy: 0.7240 - val_loss: 0.4045 - val_accuracy: 0.8971\n",
      "Epoch 166/1000\n",
      " 1/36 [..............................] - ETA: 0s - loss: 0.8518 - accuracy: 0.6875\n",
      "Epoch 166: saving model to model/keypoint_classifier\\keypoint_classifier.hdf5\n",
      "36/36 [==============================] - 0s 2ms/step - loss: 0.7554 - accuracy: 0.7233 - val_loss: 0.3976 - val_accuracy: 0.9084\n",
      "Epoch 167/1000\n",
      " 1/36 [..............................] - ETA: 0s - loss: 0.7351 - accuracy: 0.7031\n",
      "Epoch 167: saving model to model/keypoint_classifier\\keypoint_classifier.hdf5\n",
      "36/36 [==============================] - 0s 2ms/step - loss: 0.7595 - accuracy: 0.7191 - val_loss: 0.4077 - val_accuracy: 0.9011\n",
      "Epoch 168/1000\n",
      " 1/36 [..............................] - ETA: 0s - loss: 0.7438 - accuracy: 0.7188\n",
      "Epoch 168: saving model to model/keypoint_classifier\\keypoint_classifier.hdf5\n",
      "36/36 [==============================] - 0s 2ms/step - loss: 0.7446 - accuracy: 0.7297 - val_loss: 0.3918 - val_accuracy: 0.9078\n",
      "Epoch 169/1000\n",
      " 1/36 [..............................] - ETA: 0s - loss: 0.9740 - accuracy: 0.6797\n",
      "Epoch 169: saving model to model/keypoint_classifier\\keypoint_classifier.hdf5\n",
      "36/36 [==============================] - 0s 2ms/step - loss: 0.7653 - accuracy: 0.7218 - val_loss: 0.4031 - val_accuracy: 0.9005\n",
      "Epoch 170/1000\n",
      " 1/36 [..............................] - ETA: 0s - loss: 0.8527 - accuracy: 0.7031\n",
      "Epoch 170: saving model to model/keypoint_classifier\\keypoint_classifier.hdf5\n",
      "36/36 [==============================] - 0s 3ms/step - loss: 0.7233 - accuracy: 0.7450 - val_loss: 0.3992 - val_accuracy: 0.9071\n",
      "Epoch 171/1000\n",
      " 1/36 [..............................] - ETA: 0s - loss: 0.7946 - accuracy: 0.6797\n",
      "Epoch 171: saving model to model/keypoint_classifier\\keypoint_classifier.hdf5\n",
      "36/36 [==============================] - 0s 2ms/step - loss: 0.7389 - accuracy: 0.7315 - val_loss: 0.3911 - val_accuracy: 0.9204\n",
      "Epoch 172/1000\n",
      " 1/36 [..............................] - ETA: 0s - loss: 0.7539 - accuracy: 0.6875\n",
      "Epoch 172: saving model to model/keypoint_classifier\\keypoint_classifier.hdf5\n",
      "36/36 [==============================] - 0s 2ms/step - loss: 0.7634 - accuracy: 0.7180 - val_loss: 0.4030 - val_accuracy: 0.9071\n",
      "Epoch 173/1000\n",
      " 1/36 [..............................] - ETA: 0s - loss: 0.7319 - accuracy: 0.7500\n",
      "Epoch 173: saving model to model/keypoint_classifier\\keypoint_classifier.hdf5\n",
      "36/36 [==============================] - 0s 2ms/step - loss: 0.7547 - accuracy: 0.7162 - val_loss: 0.3955 - val_accuracy: 0.9210\n",
      "Epoch 174/1000\n",
      " 1/36 [..............................] - ETA: 0s - loss: 0.6790 - accuracy: 0.7422\n",
      "Epoch 174: saving model to model/keypoint_classifier\\keypoint_classifier.hdf5\n",
      "36/36 [==============================] - 0s 2ms/step - loss: 0.7406 - accuracy: 0.7313 - val_loss: 0.3959 - val_accuracy: 0.9091\n",
      "Epoch 175/1000\n",
      " 1/36 [..............................] - ETA: 0s - loss: 0.7414 - accuracy: 0.6875\n",
      "Epoch 175: saving model to model/keypoint_classifier\\keypoint_classifier.hdf5\n",
      "36/36 [==============================] - 0s 2ms/step - loss: 0.7426 - accuracy: 0.7264 - val_loss: 0.3932 - val_accuracy: 0.9051\n",
      "Epoch 176/1000\n",
      " 1/36 [..............................] - ETA: 0s - loss: 0.6560 - accuracy: 0.7578\n",
      "Epoch 176: saving model to model/keypoint_classifier\\keypoint_classifier.hdf5\n",
      "36/36 [==============================] - 0s 2ms/step - loss: 0.7317 - accuracy: 0.7333 - val_loss: 0.4003 - val_accuracy: 0.8998\n",
      "Epoch 177/1000\n",
      " 1/36 [..............................] - ETA: 0s - loss: 0.7884 - accuracy: 0.6406\n",
      "Epoch 177: saving model to model/keypoint_classifier\\keypoint_classifier.hdf5\n",
      "36/36 [==============================] - 0s 2ms/step - loss: 0.7822 - accuracy: 0.7156 - val_loss: 0.3985 - val_accuracy: 0.9018\n",
      "Epoch 178/1000\n",
      " 1/36 [..............................] - ETA: 0s - loss: 0.8757 - accuracy: 0.6797\n",
      "Epoch 178: saving model to model/keypoint_classifier\\keypoint_classifier.hdf5\n",
      "36/36 [==============================] - 0s 2ms/step - loss: 0.7402 - accuracy: 0.7333 - val_loss: 0.4014 - val_accuracy: 0.8971\n",
      "Epoch 179/1000\n",
      " 1/36 [..............................] - ETA: 0s - loss: 0.6575 - accuracy: 0.7656\n",
      "Epoch 179: saving model to model/keypoint_classifier\\keypoint_classifier.hdf5\n",
      "36/36 [==============================] - 0s 2ms/step - loss: 0.7568 - accuracy: 0.7249 - val_loss: 0.3993 - val_accuracy: 0.9104\n",
      "Epoch 180/1000\n",
      " 1/36 [..............................] - ETA: 0s - loss: 0.7537 - accuracy: 0.6875\n",
      "Epoch 180: saving model to model/keypoint_classifier\\keypoint_classifier.hdf5\n",
      "36/36 [==============================] - 0s 2ms/step - loss: 0.7349 - accuracy: 0.7315 - val_loss: 0.4085 - val_accuracy: 0.8991\n",
      "Epoch 181/1000\n",
      " 1/36 [..............................] - ETA: 0s - loss: 0.7761 - accuracy: 0.7109\n",
      "Epoch 181: saving model to model/keypoint_classifier\\keypoint_classifier.hdf5\n",
      "36/36 [==============================] - 0s 2ms/step - loss: 0.7443 - accuracy: 0.7311 - val_loss: 0.3963 - val_accuracy: 0.9091\n",
      "Epoch 182/1000\n",
      " 1/36 [..............................] - ETA: 0s - loss: 0.7938 - accuracy: 0.7266\n",
      "Epoch 182: saving model to model/keypoint_classifier\\keypoint_classifier.hdf5\n",
      "36/36 [==============================] - 0s 2ms/step - loss: 0.7583 - accuracy: 0.7275 - val_loss: 0.3956 - val_accuracy: 0.9078\n",
      "Epoch 183/1000\n",
      " 1/36 [..............................] - ETA: 0s - loss: 0.8528 - accuracy: 0.6797\n",
      "Epoch 183: saving model to model/keypoint_classifier\\keypoint_classifier.hdf5\n",
      "36/36 [==============================] - 0s 2ms/step - loss: 0.7531 - accuracy: 0.7229 - val_loss: 0.3984 - val_accuracy: 0.8998\n",
      "Epoch 184/1000\n",
      " 1/36 [..............................] - ETA: 0s - loss: 0.7535 - accuracy: 0.7266\n",
      "Epoch 184: saving model to model/keypoint_classifier\\keypoint_classifier.hdf5\n",
      "36/36 [==============================] - 0s 2ms/step - loss: 0.7562 - accuracy: 0.7273 - val_loss: 0.4010 - val_accuracy: 0.9084\n",
      "Epoch 185/1000\n",
      " 1/36 [..............................] - ETA: 0s - loss: 0.7543 - accuracy: 0.6719\n",
      "Epoch 185: saving model to model/keypoint_classifier\\keypoint_classifier.hdf5\n",
      "36/36 [==============================] - 0s 2ms/step - loss: 0.7359 - accuracy: 0.7357 - val_loss: 0.4016 - val_accuracy: 0.8998\n",
      "Epoch 186/1000\n",
      " 1/36 [..............................] - ETA: 0s - loss: 0.7504 - accuracy: 0.7188\n",
      "Epoch 186: saving model to model/keypoint_classifier\\keypoint_classifier.hdf5\n",
      "36/36 [==============================] - 0s 2ms/step - loss: 0.7395 - accuracy: 0.7271 - val_loss: 0.3887 - val_accuracy: 0.9098\n",
      "Epoch 187/1000\n",
      " 1/36 [..............................] - ETA: 0s - loss: 0.7571 - accuracy: 0.7500\n",
      "Epoch 187: saving model to model/keypoint_classifier\\keypoint_classifier.hdf5\n",
      "36/36 [==============================] - 0s 2ms/step - loss: 0.7549 - accuracy: 0.7242 - val_loss: 0.3904 - val_accuracy: 0.9184\n",
      "Epoch 188/1000\n",
      " 1/36 [..............................] - ETA: 0s - loss: 0.6876 - accuracy: 0.7656\n",
      "Epoch 188: saving model to model/keypoint_classifier\\keypoint_classifier.hdf5\n",
      "36/36 [==============================] - 0s 2ms/step - loss: 0.7247 - accuracy: 0.7408 - val_loss: 0.3838 - val_accuracy: 0.9177\n",
      "Epoch 189/1000\n",
      " 1/36 [..............................] - ETA: 0s - loss: 0.6570 - accuracy: 0.7109\n",
      "Epoch 189: saving model to model/keypoint_classifier\\keypoint_classifier.hdf5\n",
      "36/36 [==============================] - 0s 2ms/step - loss: 0.7326 - accuracy: 0.7273 - val_loss: 0.3966 - val_accuracy: 0.8952\n",
      "Epoch 190/1000\n",
      " 1/36 [..............................] - ETA: 0s - loss: 0.8571 - accuracy: 0.7422\n",
      "Epoch 190: saving model to model/keypoint_classifier\\keypoint_classifier.hdf5\n",
      "36/36 [==============================] - 0s 2ms/step - loss: 0.7368 - accuracy: 0.7275 - val_loss: 0.3807 - val_accuracy: 0.9078\n",
      "Epoch 191/1000\n",
      " 1/36 [..............................] - ETA: 0s - loss: 0.6395 - accuracy: 0.7578\n",
      "Epoch 191: saving model to model/keypoint_classifier\\keypoint_classifier.hdf5\n",
      "36/36 [==============================] - 0s 2ms/step - loss: 0.7563 - accuracy: 0.7236 - val_loss: 0.3894 - val_accuracy: 0.9157\n",
      "Epoch 192/1000\n",
      " 1/36 [..............................] - ETA: 0s - loss: 0.6796 - accuracy: 0.7422\n",
      "Epoch 192: saving model to model/keypoint_classifier\\keypoint_classifier.hdf5\n",
      "36/36 [==============================] - 0s 2ms/step - loss: 0.7358 - accuracy: 0.7324 - val_loss: 0.4008 - val_accuracy: 0.9111\n",
      "Epoch 193/1000\n",
      " 1/36 [..............................] - ETA: 0s - loss: 0.7542 - accuracy: 0.7344\n",
      "Epoch 193: saving model to model/keypoint_classifier\\keypoint_classifier.hdf5\n",
      "36/36 [==============================] - 0s 2ms/step - loss: 0.7300 - accuracy: 0.7346 - val_loss: 0.3933 - val_accuracy: 0.8978\n",
      "Epoch 194/1000\n",
      " 1/36 [..............................] - ETA: 0s - loss: 0.6275 - accuracy: 0.7422\n",
      "Epoch 194: saving model to model/keypoint_classifier\\keypoint_classifier.hdf5\n",
      "36/36 [==============================] - 0s 2ms/step - loss: 0.7660 - accuracy: 0.7218 - val_loss: 0.4077 - val_accuracy: 0.9064\n",
      "Epoch 195/1000\n",
      " 1/36 [..............................] - ETA: 0s - loss: 0.7434 - accuracy: 0.6875\n",
      "Epoch 195: saving model to model/keypoint_classifier\\keypoint_classifier.hdf5\n",
      "36/36 [==============================] - 0s 2ms/step - loss: 0.7084 - accuracy: 0.7483 - val_loss: 0.3898 - val_accuracy: 0.9204\n",
      "Epoch 196/1000\n",
      " 1/36 [..............................] - ETA: 0s - loss: 0.5918 - accuracy: 0.8125\n",
      "Epoch 196: saving model to model/keypoint_classifier\\keypoint_classifier.hdf5\n",
      "36/36 [==============================] - 0s 2ms/step - loss: 0.7219 - accuracy: 0.7320 - val_loss: 0.3865 - val_accuracy: 0.9111\n",
      "Epoch 197/1000\n",
      " 1/36 [..............................] - ETA: 0s - loss: 0.7404 - accuracy: 0.7422\n",
      "Epoch 197: saving model to model/keypoint_classifier\\keypoint_classifier.hdf5\n",
      "36/36 [==============================] - 0s 2ms/step - loss: 0.7555 - accuracy: 0.7247 - val_loss: 0.3909 - val_accuracy: 0.9084\n",
      "Epoch 198/1000\n",
      " 1/36 [..............................] - ETA: 0s - loss: 0.6850 - accuracy: 0.7734\n",
      "Epoch 198: saving model to model/keypoint_classifier\\keypoint_classifier.hdf5\n",
      "36/36 [==============================] - 0s 2ms/step - loss: 0.7406 - accuracy: 0.7284 - val_loss: 0.3874 - val_accuracy: 0.9277\n",
      "Epoch 199/1000\n",
      " 1/36 [..............................] - ETA: 0s - loss: 0.6971 - accuracy: 0.7422\n",
      "Epoch 199: saving model to model/keypoint_classifier\\keypoint_classifier.hdf5\n",
      "36/36 [==============================] - 0s 2ms/step - loss: 0.7368 - accuracy: 0.7266 - val_loss: 0.3992 - val_accuracy: 0.8978\n",
      "Epoch 200/1000\n",
      " 1/36 [..............................] - ETA: 0s - loss: 0.7064 - accuracy: 0.7422\n",
      "Epoch 200: saving model to model/keypoint_classifier\\keypoint_classifier.hdf5\n",
      "36/36 [==============================] - 0s 2ms/step - loss: 0.7376 - accuracy: 0.7291 - val_loss: 0.4024 - val_accuracy: 0.9084\n",
      "Epoch 201/1000\n",
      " 1/36 [..............................] - ETA: 0s - loss: 0.8635 - accuracy: 0.7266\n",
      "Epoch 201: saving model to model/keypoint_classifier\\keypoint_classifier.hdf5\n",
      "36/36 [==============================] - 0s 2ms/step - loss: 0.7352 - accuracy: 0.7309 - val_loss: 0.3902 - val_accuracy: 0.9230\n",
      "Epoch 202/1000\n",
      " 1/36 [..............................] - ETA: 0s - loss: 0.6771 - accuracy: 0.7344\n",
      "Epoch 202: saving model to model/keypoint_classifier\\keypoint_classifier.hdf5\n",
      "36/36 [==============================] - 0s 2ms/step - loss: 0.7395 - accuracy: 0.7258 - val_loss: 0.3937 - val_accuracy: 0.9283\n",
      "Epoch 203/1000\n",
      " 1/36 [..............................] - ETA: 0s - loss: 0.6704 - accuracy: 0.7266\n",
      "Epoch 203: saving model to model/keypoint_classifier\\keypoint_classifier.hdf5\n",
      "36/36 [==============================] - 0s 2ms/step - loss: 0.7368 - accuracy: 0.7280 - val_loss: 0.3926 - val_accuracy: 0.9098\n",
      "Epoch 204/1000\n",
      " 1/36 [..............................] - ETA: 0s - loss: 0.6842 - accuracy: 0.7422\n",
      "Epoch 204: saving model to model/keypoint_classifier\\keypoint_classifier.hdf5\n",
      "36/36 [==============================] - 0s 2ms/step - loss: 0.7390 - accuracy: 0.7255 - val_loss: 0.3951 - val_accuracy: 0.9084\n",
      "Epoch 205/1000\n",
      " 1/36 [..............................] - ETA: 0s - loss: 0.6712 - accuracy: 0.7344\n",
      "Epoch 205: saving model to model/keypoint_classifier\\keypoint_classifier.hdf5\n",
      "36/36 [==============================] - 0s 2ms/step - loss: 0.7306 - accuracy: 0.7386 - val_loss: 0.3970 - val_accuracy: 0.9117\n",
      "Epoch 206/1000\n",
      " 1/36 [..............................] - ETA: 0s - loss: 0.5875 - accuracy: 0.8047\n",
      "Epoch 206: saving model to model/keypoint_classifier\\keypoint_classifier.hdf5\n",
      "36/36 [==============================] - 0s 2ms/step - loss: 0.7324 - accuracy: 0.7368 - val_loss: 0.3943 - val_accuracy: 0.9104\n",
      "Epoch 207/1000\n",
      " 1/36 [..............................] - ETA: 0s - loss: 0.7647 - accuracy: 0.7109\n",
      "Epoch 207: saving model to model/keypoint_classifier\\keypoint_classifier.hdf5\n",
      "36/36 [==============================] - 0s 2ms/step - loss: 0.7257 - accuracy: 0.7311 - val_loss: 0.3893 - val_accuracy: 0.9078\n",
      "Epoch 208/1000\n",
      " 1/36 [..............................] - ETA: 0s - loss: 0.6340 - accuracy: 0.7891\n",
      "Epoch 208: saving model to model/keypoint_classifier\\keypoint_classifier.hdf5\n",
      "36/36 [==============================] - 0s 2ms/step - loss: 0.7361 - accuracy: 0.7344 - val_loss: 0.3955 - val_accuracy: 0.9031\n",
      "Epoch 209/1000\n",
      " 1/36 [..............................] - ETA: 0s - loss: 0.7977 - accuracy: 0.6562\n",
      "Epoch 209: saving model to model/keypoint_classifier\\keypoint_classifier.hdf5\n",
      "36/36 [==============================] - 0s 2ms/step - loss: 0.7384 - accuracy: 0.7271 - val_loss: 0.3949 - val_accuracy: 0.9031\n",
      "Epoch 210/1000\n",
      " 1/36 [..............................] - ETA: 0s - loss: 0.6939 - accuracy: 0.7500\n",
      "Epoch 210: saving model to model/keypoint_classifier\\keypoint_classifier.hdf5\n",
      "36/36 [==============================] - 0s 2ms/step - loss: 0.7398 - accuracy: 0.7317 - val_loss: 0.3896 - val_accuracy: 0.9376\n",
      "Epoch 210: early stopping\n"
     ]
    },
    {
     "data": {
      "text/plain": [
       "<keras.callbacks.History at 0x1f009756e60>"
      ]
     },
     "execution_count": 55,
     "metadata": {},
     "output_type": "execute_result"
    }
   ],
   "source": [
    "model.fit(\n",
    "    X_train,\n",
    "    y_train,\n",
    "    epochs=1000,\n",
    "    batch_size=128,\n",
    "    validation_data=(X_test, y_test),\n",
    "    callbacks=[cp_callback, es_callback]\n",
    ")"
   ]
  },
  {
   "cell_type": "code",
   "execution_count": 56,
   "metadata": {
    "colab": {
     "base_uri": "https://localhost:8080/"
    },
    "id": "pxvb2Y299hE3",
    "outputId": "59eb3185-2e37-4b9e-bc9d-ab1b8ac29b7f",
    "pycharm": {
     "name": "#%%\n"
    }
   },
   "outputs": [
    {
     "name": "stdout",
     "output_type": "stream",
     "text": [
      "12/12 [==============================] - 0s 729us/step - loss: 0.3896 - accuracy: 0.9376\n"
     ]
    }
   ],
   "source": [
    "# Model evaluation\n",
    "val_loss, val_acc = model.evaluate(X_test, y_test, batch_size=128)"
   ]
  },
  {
   "cell_type": "code",
   "execution_count": 57,
   "metadata": {
    "id": "RBkmDeUW9hE4",
    "pycharm": {
     "name": "#%%\n"
    }
   },
   "outputs": [],
   "source": [
    "# Loading the saved model\n",
    "model = tf.keras.models.load_model(model_save_path)"
   ]
  },
  {
   "cell_type": "code",
   "execution_count": 58,
   "metadata": {
    "colab": {
     "base_uri": "https://localhost:8080/"
    },
    "id": "tFz9Tb0I9hE4",
    "outputId": "1c3b3528-54ae-4ee2-ab04-77429211cbef",
    "pycharm": {
     "name": "#%%\n"
    }
   },
   "outputs": [
    {
     "name": "stdout",
     "output_type": "stream",
     "text": [
      "1/1 [==============================] - 0s 37ms/step\n",
      "[7.5712144e-02 1.6458248e-01 5.5888402e-01 1.0348654e-01 9.5122725e-02\n",
      " 1.9639097e-03 8.0262915e-05 7.6718330e-05 9.1178626e-05]\n",
      "2\n"
     ]
    }
   ],
   "source": [
    "# Inference test\n",
    "predict_result = model.predict(np.array([X_test[0]]))\n",
    "print(np.squeeze(predict_result))\n",
    "print(np.argmax(np.squeeze(predict_result)))"
   ]
  },
  {
   "cell_type": "markdown",
   "metadata": {
    "id": "S3U4yNWx9hE4",
    "pycharm": {
     "name": "#%% md\n"
    }
   },
   "source": [
    "# Confusion matrix"
   ]
  },
  {
   "cell_type": "code",
   "execution_count": 59,
   "metadata": {
    "colab": {
     "base_uri": "https://localhost:8080/",
     "height": 582
    },
    "id": "AP1V6SCk9hE5",
    "outputId": "08e41a80-7a4a-4619-8125-ecc371368d19",
    "pycharm": {
     "name": "#%%\n"
    }
   },
   "outputs": [
    {
     "name": "stdout",
     "output_type": "stream",
     "text": [
      "48/48 [==============================] - 0s 571us/step\n"
     ]
    },
    {
     "data": {
      "image/png": "[encoded data removed]",
      "text/plain": [
       "<Figure size 700x600 with 2 Axes>"
      ]
     },
     "metadata": {},
     "output_type": "display_data"
    },
    {
     "name": "stdout",
     "output_type": "stream",
     "text": [
      "Classification Report\n",
      "              precision    recall  f1-score   support\n",
      "\n",
      "           0       0.93      0.97      0.95       461\n",
      "           1       0.98      0.89      0.93       405\n",
      "           2       0.88      0.97      0.92       304\n",
      "           3       1.00      0.76      0.86        70\n",
      "           4       1.00      0.91      0.95       108\n",
      "           5       1.00      1.00      1.00        41\n",
      "           6       0.90      0.97      0.93        36\n",
      "           7       0.88      0.98      0.93        51\n",
      "           8       1.00      1.00      1.00        31\n",
      "\n",
      "    accuracy                           0.94      1507\n",
      "   macro avg       0.95      0.94      0.94      1507\n",
      "weighted avg       0.94      0.94      0.94      1507\n",
      "\n"
     ]
    }
   ],
   "source": [
    "import pandas as pd\n",
    "import seaborn as sns\n",
    "import matplotlib.pyplot as plt\n",
    "from sklearn.metrics import confusion_matrix, classification_report\n",
    "\n",
    "def print_confusion_matrix(y_true, y_pred, report=True):\n",
    "    labels = sorted(list(set(y_true)))\n",
    "    cmx_data = confusion_matrix(y_true, y_pred, labels=labels)\n",
    "    \n",
    "    df_cmx = pd.DataFrame(cmx_data, index=labels, columns=labels)\n",
    " \n",
    "    fig, ax = plt.subplots(figsize=(7, 6))\n",
    "    sns.heatmap(df_cmx, annot=True, fmt='g' ,square=False)\n",
    "    ax.set_ylim(len(set(y_true)), 0)\n",
    "    plt.show()\n",
    "    \n",
    "    if report:\n",
    "        print('Classification Report')\n",
    "        print(classification_report(y_test, y_pred))\n",
    "\n",
    "Y_pred = model.predict(X_test)\n",
    "y_pred = np.argmax(Y_pred, axis=1)\n",
    "\n",
    "print_confusion_matrix(y_test, y_pred)"
   ]
  },
  {
   "cell_type": "markdown",
   "metadata": {
    "id": "FNP6aqzc9hE5",
    "pycharm": {
     "name": "#%% md\n"
    }
   },
   "source": [
    "# Convert to model for Tensorflow-Lite"
   ]
  },
  {
   "cell_type": "code",
   "execution_count": 60,
   "metadata": {
    "id": "ODjnYyld9hE6",
    "pycharm": {
     "name": "#%%\n"
    }
   },
   "outputs": [],
   "source": [
    "# Save as a model dedicated to inference\n",
    "model.save(model_save_path, include_optimizer=False)"
   ]
  },
  {
   "cell_type": "code",
   "execution_count": 61,
   "metadata": {
    "colab": {
     "base_uri": "https://localhost:8080/"
    },
    "id": "zRfuK8Y59hE6",
    "outputId": "a4ca585c-b5d5-4244-8291-8674063209bb",
    "pycharm": {
     "name": "#%%\n"
    }
   },
   "outputs": [
    {
     "name": "stderr",
     "output_type": "stream",
     "text": [
      "WARNING:absl:Found untraced functions such as _update_step_xla while saving (showing 1 of 1). These functions will not be directly callable after loading.\n"
     ]
    },
    {
     "name": "stdout",
     "output_type": "stream",
     "text": [
      "INFO:tensorflow:Assets written to: C:\\Users\\98293\\AppData\\Local\\Temp\\tmp0qbda41n\\assets\n"
     ]
    },
    {
     "name": "stderr",
     "output_type": "stream",
     "text": [
      "INFO:tensorflow:Assets written to: C:\\Users\\98293\\AppData\\Local\\Temp\\tmp0qbda41n\\assets\n"
     ]
    },
    {
     "data": {
      "text/plain": [
       "6792"
      ]
     },
     "execution_count": 61,
     "metadata": {},
     "output_type": "execute_result"
    }
   ],
   "source": [
    "# Transform model (quantization)\n",
    "\n",
    "converter = tf.lite.TFLiteConverter.from_keras_model(model)\n",
    "converter.optimizations = [tf.lite.Optimize.DEFAULT]\n",
    "tflite_quantized_model = converter.convert()\n",
    "\n",
    "open(tflite_save_path, 'wb').write(tflite_quantized_model)"
   ]
  },
  {
   "cell_type": "markdown",
   "metadata": {
    "id": "CHBPBXdx9hE6",
    "pycharm": {
     "name": "#%% md\n"
    }
   },
   "source": [
    "# Inference test"
   ]
  },
  {
   "cell_type": "code",
   "execution_count": 62,
   "metadata": {
    "id": "mGAzLocO9hE7",
    "pycharm": {
     "name": "#%%\n"
    }
   },
   "outputs": [],
   "source": [
    "interpreter = tf.lite.Interpreter(model_path=tflite_save_path)\n",
    "interpreter.allocate_tensors()"
   ]
  },
  {
   "cell_type": "code",
   "execution_count": 63,
   "metadata": {
    "id": "oQuDK8YS9hE7",
    "pycharm": {
     "name": "#%%\n"
    }
   },
   "outputs": [],
   "source": [
    "# Get I / O tensor\n",
    "input_details = interpreter.get_input_details()\n",
    "output_details = interpreter.get_output_details()"
   ]
  },
  {
   "cell_type": "code",
   "execution_count": 64,
   "metadata": {
    "id": "2_ixAf_l9hE7",
    "pycharm": {
     "name": "#%%\n"
    }
   },
   "outputs": [],
   "source": [
    "interpreter.set_tensor(input_details[0]['index'], np.array([X_test[0]]))"
   ]
  },
  {
   "cell_type": "code",
   "execution_count": 65,
   "metadata": {
    "colab": {
     "base_uri": "https://localhost:8080/"
    },
    "id": "s4FoAnuc9hE7",
    "outputId": "91f18257-8d8b-4ef3-c558-e9b5f94fabbf",
    "scrolled": true,
    "pycharm": {
     "name": "#%%\n"
    }
   },
   "outputs": [
    {
     "name": "stdout",
     "output_type": "stream",
     "text": [
      "CPU times: total: 0 ns\n",
      "Wall time: 0 ns\n"
     ]
    }
   ],
   "source": [
    "%%time\n",
    "# Inference implementation\n",
    "interpreter.invoke()\n",
    "tflite_results = interpreter.get_tensor(output_details[0]['index'])"
   ]
  },
  {
   "cell_type": "code",
   "execution_count": 66,
   "metadata": {
    "colab": {
     "base_uri": "https://localhost:8080/"
    },
    "id": "vONjp19J9hE8",
    "outputId": "77205e24-fd00-42c4-f7b6-e06e527c2cba",
    "pycharm": {
     "name": "#%%\n"
    }
   },
   "outputs": [
    {
     "name": "stdout",
     "output_type": "stream",
     "text": [
      "[7.5712137e-02 1.6458230e-01 5.5888426e-01 1.0348648e-01 9.5122732e-02\n",
      " 1.9639104e-03 8.0262864e-05 7.6718352e-05 9.1178765e-05]\n",
      "2\n"
     ]
    }
   ],
   "source": [
    "print(np.squeeze(tflite_results))\n",
    "print(np.argmax(np.squeeze(tflite_results)))"
   ]
  }
 ],
 "metadata": {
  "accelerator": "GPU",
  "colab": {
   "collapsed_sections": [],
   "name": "keypoint_classification_EN.ipynb",
   "provenance": [],
   "toc_visible": true
  },
  "kernelspec": {
   "display_name": "Python 3",
   "language": "python",
   "name": "python3"
  },
  "language_info": {
   "codemirror_mode": {
    "name": "ipython",
    "version": 3
   },
   "file_extension": ".py",
   "mimetype": "text/x-python",
   "name": "python",
   "nbconvert_exporter": "python",
   "pygments_lexer": "ipython3",
   "version": "3.10.9 (tags/v3.10.9:1dd9be6, Dec  6 2022, 20:01:21) [MSC v.1934 64 bit (AMD64)]"
  },
  "vscode": {
   "interpreter": {
    "hash": "b40d9c5ed7681555d2d40bba94df7578f4a0120be0e67c268d888043b7b8473e"
   }
  }
 },
 "nbformat": 4,
 "nbformat_minor": 1
}